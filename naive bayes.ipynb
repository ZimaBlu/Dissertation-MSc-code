{
 "cells": [
  {
   "cell_type": "code",
   "execution_count": 3,
   "id": "a38d7568",
   "metadata": {},
   "outputs": [],
   "source": [
    "#Naive Baines\n",
    "import pandas as pd\n",
    "from sklearn.preprocessing import StandardScaler\n",
    "sc = StandardScaler()\n",
    "from sklearn.model_selection import train_test_split"
   ]
  },
  {
   "cell_type": "code",
   "execution_count": 4,
   "id": "215d0e35",
   "metadata": {},
   "outputs": [],
   "source": [
    "df = pd.read_csv(\"final_df.csv\", index_col=0)"
   ]
  },
  {
   "cell_type": "code",
   "execution_count": 5,
   "id": "e396f9c1",
   "metadata": {},
   "outputs": [
    {
     "name": "stdout",
     "output_type": "stream",
     "text": [
      "(2015, 11)\n"
     ]
    },
    {
     "data": {
      "text/html": [
       "<div>\n",
       "<style scoped>\n",
       "    .dataframe tbody tr th:only-of-type {\n",
       "        vertical-align: middle;\n",
       "    }\n",
       "\n",
       "    .dataframe tbody tr th {\n",
       "        vertical-align: top;\n",
       "    }\n",
       "\n",
       "    .dataframe thead th {\n",
       "        text-align: right;\n",
       "    }\n",
       "</style>\n",
       "<table border=\"1\" class=\"dataframe\">\n",
       "  <thead>\n",
       "    <tr style=\"text-align: right;\">\n",
       "      <th></th>\n",
       "      <th>count</th>\n",
       "      <th>mean</th>\n",
       "      <th>std</th>\n",
       "      <th>min</th>\n",
       "      <th>25%</th>\n",
       "      <th>50%</th>\n",
       "      <th>75%</th>\n",
       "      <th>max</th>\n",
       "    </tr>\n",
       "  </thead>\n",
       "  <tbody>\n",
       "    <tr>\n",
       "      <th>subject</th>\n",
       "      <td>2015.0</td>\n",
       "      <td>8.020347</td>\n",
       "      <td>4.707753</td>\n",
       "      <td>1.000000</td>\n",
       "      <td>4.000000</td>\n",
       "      <td>7.000000</td>\n",
       "      <td>11.000000</td>\n",
       "      <td>16.000000</td>\n",
       "    </tr>\n",
       "    <tr>\n",
       "      <th>HR</th>\n",
       "      <td>2015.0</td>\n",
       "      <td>61.742266</td>\n",
       "      <td>6.931676</td>\n",
       "      <td>31.656367</td>\n",
       "      <td>57.050363</td>\n",
       "      <td>61.843918</td>\n",
       "      <td>67.074265</td>\n",
       "      <td>83.088809</td>\n",
       "    </tr>\n",
       "    <tr>\n",
       "      <th>sedentary mins</th>\n",
       "      <td>2015.0</td>\n",
       "      <td>672.759305</td>\n",
       "      <td>141.273345</td>\n",
       "      <td>204.000000</td>\n",
       "      <td>582.000000</td>\n",
       "      <td>660.000000</td>\n",
       "      <td>761.500000</td>\n",
       "      <td>1227.000000</td>\n",
       "    </tr>\n",
       "    <tr>\n",
       "      <th>minutesAsleep</th>\n",
       "      <td>2015.0</td>\n",
       "      <td>390.851117</td>\n",
       "      <td>107.571766</td>\n",
       "      <td>39.000000</td>\n",
       "      <td>350.000000</td>\n",
       "      <td>402.000000</td>\n",
       "      <td>454.000000</td>\n",
       "      <td>823.000000</td>\n",
       "    </tr>\n",
       "    <tr>\n",
       "      <th>minutesAwake</th>\n",
       "      <td>2015.0</td>\n",
       "      <td>57.338462</td>\n",
       "      <td>24.556111</td>\n",
       "      <td>0.000000</td>\n",
       "      <td>43.000000</td>\n",
       "      <td>56.000000</td>\n",
       "      <td>71.000000</td>\n",
       "      <td>170.000000</td>\n",
       "    </tr>\n",
       "    <tr>\n",
       "      <th>deep_sleep_in_minutes</th>\n",
       "      <td>2015.0</td>\n",
       "      <td>72.904715</td>\n",
       "      <td>28.033617</td>\n",
       "      <td>0.000000</td>\n",
       "      <td>54.000000</td>\n",
       "      <td>72.000000</td>\n",
       "      <td>91.000000</td>\n",
       "      <td>183.000000</td>\n",
       "    </tr>\n",
       "    <tr>\n",
       "      <th>timeInBed</th>\n",
       "      <td>2015.0</td>\n",
       "      <td>448.489826</td>\n",
       "      <td>126.037225</td>\n",
       "      <td>60.000000</td>\n",
       "      <td>399.000000</td>\n",
       "      <td>463.000000</td>\n",
       "      <td>520.000000</td>\n",
       "      <td>953.000000</td>\n",
       "    </tr>\n",
       "    <tr>\n",
       "      <th>restlessness</th>\n",
       "      <td>2015.0</td>\n",
       "      <td>0.091093</td>\n",
       "      <td>0.037817</td>\n",
       "      <td>0.015385</td>\n",
       "      <td>0.062650</td>\n",
       "      <td>0.084960</td>\n",
       "      <td>0.110478</td>\n",
       "      <td>0.294766</td>\n",
       "    </tr>\n",
       "    <tr>\n",
       "      <th>stepsToday</th>\n",
       "      <td>2015.0</td>\n",
       "      <td>11623.849132</td>\n",
       "      <td>6343.438655</td>\n",
       "      <td>0.000000</td>\n",
       "      <td>7202.000000</td>\n",
       "      <td>11532.000000</td>\n",
       "      <td>16058.500000</td>\n",
       "      <td>39835.000000</td>\n",
       "    </tr>\n",
       "    <tr>\n",
       "      <th>very active mins</th>\n",
       "      <td>2015.0</td>\n",
       "      <td>48.577667</td>\n",
       "      <td>47.138872</td>\n",
       "      <td>0.000000</td>\n",
       "      <td>10.000000</td>\n",
       "      <td>38.000000</td>\n",
       "      <td>73.500000</td>\n",
       "      <td>336.000000</td>\n",
       "    </tr>\n",
       "  </tbody>\n",
       "</table>\n",
       "</div>"
      ],
      "text/plain": [
       "                        count          mean          std         min  \\\n",
       "subject                2015.0      8.020347     4.707753    1.000000   \n",
       "HR                     2015.0     61.742266     6.931676   31.656367   \n",
       "sedentary mins         2015.0    672.759305   141.273345  204.000000   \n",
       "minutesAsleep          2015.0    390.851117   107.571766   39.000000   \n",
       "minutesAwake           2015.0     57.338462    24.556111    0.000000   \n",
       "deep_sleep_in_minutes  2015.0     72.904715    28.033617    0.000000   \n",
       "timeInBed              2015.0    448.489826   126.037225   60.000000   \n",
       "restlessness           2015.0      0.091093     0.037817    0.015385   \n",
       "stepsToday             2015.0  11623.849132  6343.438655    0.000000   \n",
       "very active mins       2015.0     48.577667    47.138872    0.000000   \n",
       "\n",
       "                               25%           50%           75%           max  \n",
       "subject                   4.000000      7.000000     11.000000     16.000000  \n",
       "HR                       57.050363     61.843918     67.074265     83.088809  \n",
       "sedentary mins          582.000000    660.000000    761.500000   1227.000000  \n",
       "minutesAsleep           350.000000    402.000000    454.000000    823.000000  \n",
       "minutesAwake             43.000000     56.000000     71.000000    170.000000  \n",
       "deep_sleep_in_minutes    54.000000     72.000000     91.000000    183.000000  \n",
       "timeInBed               399.000000    463.000000    520.000000    953.000000  \n",
       "restlessness              0.062650      0.084960      0.110478      0.294766  \n",
       "stepsToday             7202.000000  11532.000000  16058.500000  39835.000000  \n",
       "very active mins         10.000000     38.000000     73.500000    336.000000  "
      ]
     },
     "execution_count": 5,
     "metadata": {},
     "output_type": "execute_result"
    }
   ],
   "source": [
    "print(df.shape)\n",
    "df.describe().transpose()"
   ]
  },
  {
   "cell_type": "code",
   "execution_count": 6,
   "id": "d5e0fe3b",
   "metadata": {},
   "outputs": [
    {
     "data": {
      "text/html": [
       "<div>\n",
       "<style scoped>\n",
       "    .dataframe tbody tr th:only-of-type {\n",
       "        vertical-align: middle;\n",
       "    }\n",
       "\n",
       "    .dataframe tbody tr th {\n",
       "        vertical-align: top;\n",
       "    }\n",
       "\n",
       "    .dataframe thead th {\n",
       "        text-align: right;\n",
       "    }\n",
       "</style>\n",
       "<table border=\"1\" class=\"dataframe\">\n",
       "  <thead>\n",
       "    <tr style=\"text-align: right;\">\n",
       "      <th></th>\n",
       "      <th>count</th>\n",
       "      <th>mean</th>\n",
       "      <th>std</th>\n",
       "      <th>min</th>\n",
       "      <th>25%</th>\n",
       "      <th>50%</th>\n",
       "      <th>75%</th>\n",
       "      <th>max</th>\n",
       "    </tr>\n",
       "  </thead>\n",
       "  <tbody>\n",
       "    <tr>\n",
       "      <th>subject</th>\n",
       "      <td>2015.0</td>\n",
       "      <td>0.501272</td>\n",
       "      <td>0.294235</td>\n",
       "      <td>0.062500</td>\n",
       "      <td>0.250000</td>\n",
       "      <td>0.437500</td>\n",
       "      <td>0.687500</td>\n",
       "      <td>1.0</td>\n",
       "    </tr>\n",
       "    <tr>\n",
       "      <th>HR</th>\n",
       "      <td>2015.0</td>\n",
       "      <td>0.743088</td>\n",
       "      <td>0.083425</td>\n",
       "      <td>0.380994</td>\n",
       "      <td>0.686619</td>\n",
       "      <td>0.744311</td>\n",
       "      <td>0.807260</td>\n",
       "      <td>1.0</td>\n",
       "    </tr>\n",
       "    <tr>\n",
       "      <th>sedentary mins</th>\n",
       "      <td>2015.0</td>\n",
       "      <td>0.548296</td>\n",
       "      <td>0.115137</td>\n",
       "      <td>0.166259</td>\n",
       "      <td>0.474328</td>\n",
       "      <td>0.537897</td>\n",
       "      <td>0.620619</td>\n",
       "      <td>1.0</td>\n",
       "    </tr>\n",
       "    <tr>\n",
       "      <th>minutesAsleep</th>\n",
       "      <td>2015.0</td>\n",
       "      <td>0.474910</td>\n",
       "      <td>0.130707</td>\n",
       "      <td>0.047388</td>\n",
       "      <td>0.425273</td>\n",
       "      <td>0.488457</td>\n",
       "      <td>0.551640</td>\n",
       "      <td>1.0</td>\n",
       "    </tr>\n",
       "    <tr>\n",
       "      <th>minutesAwake</th>\n",
       "      <td>2015.0</td>\n",
       "      <td>0.337285</td>\n",
       "      <td>0.144448</td>\n",
       "      <td>0.000000</td>\n",
       "      <td>0.252941</td>\n",
       "      <td>0.329412</td>\n",
       "      <td>0.417647</td>\n",
       "      <td>1.0</td>\n",
       "    </tr>\n",
       "    <tr>\n",
       "      <th>deep_sleep_in_minutes</th>\n",
       "      <td>2015.0</td>\n",
       "      <td>0.398386</td>\n",
       "      <td>0.153189</td>\n",
       "      <td>0.000000</td>\n",
       "      <td>0.295082</td>\n",
       "      <td>0.393443</td>\n",
       "      <td>0.497268</td>\n",
       "      <td>1.0</td>\n",
       "    </tr>\n",
       "    <tr>\n",
       "      <th>timeInBed</th>\n",
       "      <td>2015.0</td>\n",
       "      <td>0.470608</td>\n",
       "      <td>0.132253</td>\n",
       "      <td>0.062959</td>\n",
       "      <td>0.418678</td>\n",
       "      <td>0.485834</td>\n",
       "      <td>0.545645</td>\n",
       "      <td>1.0</td>\n",
       "    </tr>\n",
       "    <tr>\n",
       "      <th>restlessness</th>\n",
       "      <td>2015.0</td>\n",
       "      <td>0.309035</td>\n",
       "      <td>0.128293</td>\n",
       "      <td>0.052193</td>\n",
       "      <td>0.212541</td>\n",
       "      <td>0.288228</td>\n",
       "      <td>0.374800</td>\n",
       "      <td>1.0</td>\n",
       "    </tr>\n",
       "    <tr>\n",
       "      <th>stepsToday</th>\n",
       "      <td>2015.0</td>\n",
       "      <td>0.291800</td>\n",
       "      <td>0.159243</td>\n",
       "      <td>0.000000</td>\n",
       "      <td>0.180796</td>\n",
       "      <td>0.289494</td>\n",
       "      <td>0.403125</td>\n",
       "      <td>1.0</td>\n",
       "    </tr>\n",
       "    <tr>\n",
       "      <th>very active mins</th>\n",
       "      <td>2015.0</td>\n",
       "      <td>0.144576</td>\n",
       "      <td>0.140294</td>\n",
       "      <td>0.000000</td>\n",
       "      <td>0.029762</td>\n",
       "      <td>0.113095</td>\n",
       "      <td>0.218750</td>\n",
       "      <td>1.0</td>\n",
       "    </tr>\n",
       "  </tbody>\n",
       "</table>\n",
       "</div>"
      ],
      "text/plain": [
       "                        count      mean       std       min       25%  \\\n",
       "subject                2015.0  0.501272  0.294235  0.062500  0.250000   \n",
       "HR                     2015.0  0.743088  0.083425  0.380994  0.686619   \n",
       "sedentary mins         2015.0  0.548296  0.115137  0.166259  0.474328   \n",
       "minutesAsleep          2015.0  0.474910  0.130707  0.047388  0.425273   \n",
       "minutesAwake           2015.0  0.337285  0.144448  0.000000  0.252941   \n",
       "deep_sleep_in_minutes  2015.0  0.398386  0.153189  0.000000  0.295082   \n",
       "timeInBed              2015.0  0.470608  0.132253  0.062959  0.418678   \n",
       "restlessness           2015.0  0.309035  0.128293  0.052193  0.212541   \n",
       "stepsToday             2015.0  0.291800  0.159243  0.000000  0.180796   \n",
       "very active mins       2015.0  0.144576  0.140294  0.000000  0.029762   \n",
       "\n",
       "                            50%       75%  max  \n",
       "subject                0.437500  0.687500  1.0  \n",
       "HR                     0.744311  0.807260  1.0  \n",
       "sedentary mins         0.537897  0.620619  1.0  \n",
       "minutesAsleep          0.488457  0.551640  1.0  \n",
       "minutesAwake           0.329412  0.417647  1.0  \n",
       "deep_sleep_in_minutes  0.393443  0.497268  1.0  \n",
       "timeInBed              0.485834  0.545645  1.0  \n",
       "restlessness           0.288228  0.374800  1.0  \n",
       "stepsToday             0.289494  0.403125  1.0  \n",
       "very active mins       0.113095  0.218750  1.0  "
      ]
     },
     "execution_count": 6,
     "metadata": {},
     "output_type": "execute_result"
    }
   ],
   "source": [
    "target_column = ['Flare'] \n",
    "predictors = list(set(list(df.columns))-set(target_column))\n",
    "df[predictors] = df[predictors]/df[predictors].max()\n",
    "df.describe().transpose()"
   ]
  },
  {
   "cell_type": "code",
   "execution_count": 7,
   "id": "3a473ae0",
   "metadata": {},
   "outputs": [
    {
     "name": "stdout",
     "output_type": "stream",
     "text": [
      "(604, 10)\n",
      "(1411, 10)\n"
     ]
    }
   ],
   "source": [
    "X = df[predictors].values\n",
    "y = df[target_column].values\n",
    "X_train, X_test, y_train, y_test = train_test_split(X, y, test_size=0.70, random_state=40)\n",
    "\n",
    "print(X_train.shape); print(X_test.shape)"
   ]
  },
  {
   "cell_type": "code",
   "execution_count": 8,
   "id": "a474d061",
   "metadata": {},
   "outputs": [],
   "source": [
    "# Feature Scaling\n",
    "from sklearn.preprocessing import StandardScaler\n",
    "sc = StandardScaler()\n",
    "X_train = sc.fit_transform(X_train)\n",
    "X_test = sc.transform(X_test)"
   ]
  },
  {
   "cell_type": "code",
   "execution_count": 9,
   "id": "645c6ffc",
   "metadata": {},
   "outputs": [],
   "source": [
    "# Training the Naive Bayes model on the Training set\n",
    "from sklearn.naive_bayes import GaussianNB\n",
    "classifier = GaussianNB()\n",
    "classifier.fit(X_train, y_train.ravel())\n",
    "# Predicting the Test set results\n",
    "y_pred = classifier.predict(X_test)"
   ]
  },
  {
   "cell_type": "code",
   "execution_count": 10,
   "id": "f29158d7",
   "metadata": {},
   "outputs": [
    {
     "data": {
      "text/plain": [
       "array([[False],\n",
       "       [False],\n",
       "       [ True],\n",
       "       ...,\n",
       "       [False],\n",
       "       [ True],\n",
       "       [False]])"
      ]
     },
     "execution_count": 10,
     "metadata": {},
     "output_type": "execute_result"
    }
   ],
   "source": [
    "y_test"
   ]
  },
  {
   "cell_type": "code",
   "execution_count": 11,
   "id": "5f9e1ddc",
   "metadata": {},
   "outputs": [],
   "source": [
    "# Making the Confusion Matrix\n",
    "from sklearn.metrics import confusion_matrix, accuracy_score, classification_report\n",
    "ac = accuracy_score(y_test,y_pred)\n",
    "cm = confusion_matrix(y_test, y_pred)\n",
    "cr = classification_report(y_test, y_pred)"
   ]
  },
  {
   "cell_type": "code",
   "execution_count": 12,
   "id": "39e14c13",
   "metadata": {},
   "outputs": [
    {
     "name": "stdout",
     "output_type": "stream",
     "text": [
      "0.5379163713678242\n"
     ]
    }
   ],
   "source": [
    "print(ac)"
   ]
  },
  {
   "cell_type": "code",
   "execution_count": 13,
   "id": "50e4ddbc",
   "metadata": {},
   "outputs": [
    {
     "name": "stdout",
     "output_type": "stream",
     "text": [
      "[[162 454]\n",
      " [198 597]]\n"
     ]
    }
   ],
   "source": [
    "print(cm)"
   ]
  },
  {
   "cell_type": "code",
   "execution_count": 14,
   "id": "9ee287e2",
   "metadata": {},
   "outputs": [
    {
     "name": "stdout",
     "output_type": "stream",
     "text": [
      "              precision    recall  f1-score   support\n",
      "\n",
      "       False       0.45      0.26      0.33       616\n",
      "        True       0.57      0.75      0.65       795\n",
      "\n",
      "    accuracy                           0.54      1411\n",
      "   macro avg       0.51      0.51      0.49      1411\n",
      "weighted avg       0.52      0.54      0.51      1411\n",
      "\n"
     ]
    }
   ],
   "source": [
    "print(cr)"
   ]
  },
  {
   "cell_type": "code",
   "execution_count": 25,
   "id": "85405846",
   "metadata": {},
   "outputs": [],
   "source": [
    "import pickle\n",
    "\n",
    "filename = 'classifier.sav'\n",
    "pickle.dump(classifier, open(filename, 'wb'))\n",
    "\n",
    "filename = 'X_train.sav'\n",
    "pickle.dump(X_train, open(filename, 'wb'))\n",
    "\n",
    "filename = 'X_test.sav'\n",
    "pickle.dump(X_test, open(filename, 'wb'))\n",
    "\n",
    "filename = 'y_pred.sav'\n",
    "pickle.dump(y_pred, open(filename, 'wb'))\n",
    "\n",
    "filename = 'y_test.sav'\n",
    "pickle.dump(y_test, open(filename, 'wb'))"
   ]
  },
  {
   "cell_type": "code",
   "execution_count": 26,
   "id": "97e9024d",
   "metadata": {},
   "outputs": [],
   "source": [
    "classifier = pickle.load(open('classifier.sav', 'rb'))\n",
    "X_train = pickle.load(open('X_train.sav', 'rb'))\n",
    "X_test = pickle.load(open('X_test.sav', 'rb'))\n",
    "y_pred = pickle.load(open('y_pred.sav', 'rb'))\n",
    "y_test = pickle.load(open('y_test.sav', 'rb'))"
   ]
  },
  {
   "cell_type": "code",
   "execution_count": 27,
   "id": "5dfe5e06",
   "metadata": {},
   "outputs": [],
   "source": [
    "from sklearn.metrics import confusion_matrix, accuracy_score, classification_report\n",
    "ac = accuracy_score(y_test,y_pred)\n",
    "cm = confusion_matrix(y_test, y_pred)\n",
    "cr = classification_report(y_test, y_pred)"
   ]
  },
  {
   "cell_type": "code",
   "execution_count": 22,
   "id": "2ee34f90",
   "metadata": {},
   "outputs": [
    {
     "name": "stdout",
     "output_type": "stream",
     "text": [
      "0.5379163713678242\n"
     ]
    }
   ],
   "source": [
    "print(ac)"
   ]
  },
  {
   "cell_type": "code",
   "execution_count": 23,
   "id": "94bb9539",
   "metadata": {},
   "outputs": [
    {
     "name": "stdout",
     "output_type": "stream",
     "text": [
      "[[162 454]\n",
      " [198 597]]\n"
     ]
    }
   ],
   "source": [
    "print(cm)"
   ]
  },
  {
   "cell_type": "code",
   "execution_count": 24,
   "id": "ac16e754",
   "metadata": {},
   "outputs": [
    {
     "name": "stdout",
     "output_type": "stream",
     "text": [
      "              precision    recall  f1-score   support\n",
      "\n",
      "       False       0.45      0.26      0.33       616\n",
      "        True       0.57      0.75      0.65       795\n",
      "\n",
      "    accuracy                           0.54      1411\n",
      "   macro avg       0.51      0.51      0.49      1411\n",
      "weighted avg       0.52      0.54      0.51      1411\n",
      "\n"
     ]
    }
   ],
   "source": [
    "print(cr)"
   ]
  },
  {
   "cell_type": "code",
   "execution_count": null,
   "id": "37740d5d",
   "metadata": {},
   "outputs": [],
   "source": []
  }
 ],
 "metadata": {
  "kernelspec": {
   "display_name": "Python 3",
   "language": "python",
   "name": "python3"
  },
  "language_info": {
   "codemirror_mode": {
    "name": "ipython",
    "version": 3
   },
   "file_extension": ".py",
   "mimetype": "text/x-python",
   "name": "python",
   "nbconvert_exporter": "python",
   "pygments_lexer": "ipython3",
   "version": "3.8.8"
  }
 },
 "nbformat": 4,
 "nbformat_minor": 5
}
