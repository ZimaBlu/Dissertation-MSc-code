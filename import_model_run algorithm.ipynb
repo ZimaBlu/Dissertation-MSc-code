{
 "cells": [
  {
   "cell_type": "code",
   "execution_count": null,
   "id": "42a0743d",
   "metadata": {},
   "outputs": [],
   "source": [
    "# Artifcat for Ben Skipp's project for York's online MSC in Computer Science\n",
    "# Gaussian Naive Bayes applied to fitbit dataset with synthetic data representing IBD flare indicators.\n",
    "\n",
    "# classifier, X_train and X_test are included so they can be viewed by reader, but are not necessary to run final\n",
    "# model as these stages have already been run in producing y-test and y_pred."
   ]
  },
  {
   "cell_type": "code",
   "execution_count": 1,
   "id": "f7338358",
   "metadata": {},
   "outputs": [],
   "source": [
    "import pickle\n",
    "classifier = pickle.load(open('classifier.sav', 'rb'))\n",
    "X_train = pickle.load(open('X_train.sav', 'rb'))\n",
    "X_test = pickle.load(open('X_test.sav', 'rb'))\n",
    "y_pred = pickle.load(open('y_pred.sav', 'rb'))\n",
    "y_test = pickle.load(open('y_test.sav', 'rb'))"
   ]
  },
  {
   "cell_type": "code",
   "execution_count": 2,
   "id": "0c36ba04",
   "metadata": {},
   "outputs": [],
   "source": [
    "from sklearn.metrics import confusion_matrix, accuracy_score, classification_report\n",
    "ac = accuracy_score(y_test,y_pred)\n",
    "cm = confusion_matrix(y_test, y_pred)\n",
    "cr = classification_report(y_test, y_pred)"
   ]
  },
  {
   "cell_type": "code",
   "execution_count": 3,
   "id": "14f974f9",
   "metadata": {},
   "outputs": [
    {
     "name": "stdout",
     "output_type": "stream",
     "text": [
      "[[162 454]\n",
      " [198 597]]\n"
     ]
    }
   ],
   "source": [
    "print(cm)"
   ]
  },
  {
   "cell_type": "code",
   "execution_count": 4,
   "id": "dfbf55dd",
   "metadata": {},
   "outputs": [
    {
     "name": "stdout",
     "output_type": "stream",
     "text": [
      "              precision    recall  f1-score   support\n",
      "\n",
      "       False       0.45      0.26      0.33       616\n",
      "        True       0.57      0.75      0.65       795\n",
      "\n",
      "    accuracy                           0.54      1411\n",
      "   macro avg       0.51      0.51      0.49      1411\n",
      "weighted avg       0.52      0.54      0.51      1411\n",
      "\n"
     ]
    }
   ],
   "source": [
    "print(cr)"
   ]
  },
  {
   "cell_type": "code",
   "execution_count": null,
   "id": "ca376509",
   "metadata": {},
   "outputs": [],
   "source": []
  }
 ],
 "metadata": {
  "kernelspec": {
   "display_name": "Python 3",
   "language": "python",
   "name": "python3"
  },
  "language_info": {
   "codemirror_mode": {
    "name": "ipython",
    "version": 3
   },
   "file_extension": ".py",
   "mimetype": "text/x-python",
   "name": "python",
   "nbconvert_exporter": "python",
   "pygments_lexer": "ipython3",
   "version": "3.8.8"
  }
 },
 "nbformat": 4,
 "nbformat_minor": 5
}
