{
 "cells": [
  {
   "cell_type": "code",
   "execution_count": 1,
   "id": "89962b5f",
   "metadata": {},
   "outputs": [],
   "source": [
    "#Prepare final df\n",
    "import pandas as pd\n",
    "import numpy  as np"
   ]
  },
  {
   "cell_type": "code",
   "execution_count": 2,
   "id": "4657d631",
   "metadata": {},
   "outputs": [],
   "source": [
    "df1 = pd.read_csv(\"p01/fitbit/withSynthetic.csv\")\n",
    "df2 = pd.read_csv(\"p02/fitbit/withSynthetic.csv\")\n",
    "df3 = pd.read_csv(\"p03/fitbit/withSynthetic.csv\")\n",
    "df4 = pd.read_csv(\"p04/fitbit/withSynthetic.csv\")\n",
    "df5 = pd.read_csv(\"p05/fitbit/withSynthetic.csv\")\n",
    "df6 = pd.read_csv(\"p06/fitbit/withSynthetic.csv\")\n",
    "df7 = pd.read_csv(\"p07/fitbit/withSynthetic.csv\")\n",
    "df8 = pd.read_csv(\"p08/fitbit/withSynthetic.csv\")\n",
    "df9 = pd.read_csv(\"p09/fitbit/withSynthetic.csv\")\n",
    "df10 = pd.read_csv(\"p10/fitbit/withSynthetic.csv\")\n",
    "df11 = pd.read_csv(\"p11/fitbit/withSynthetic.csv\")\n",
    "df12 = pd.read_csv(\"p12/fitbit/withSynthetic.csv\")\n",
    "df13 = pd.read_csv(\"p13/fitbit/withSynthetic.csv\")\n",
    "df14 = pd.read_csv(\"p14/fitbit/withSynthetic.csv\")\n",
    "df15 = pd.read_csv(\"p15/fitbit/withSynthetic.csv\")\n",
    "df16 = pd.read_csv(\"p16/fitbit/withSynthetic.csv\")"
   ]
  },
  {
   "cell_type": "code",
   "execution_count": 3,
   "id": "31ee9841",
   "metadata": {},
   "outputs": [],
   "source": [
    "df1.insert(0, 'subject',1)\n",
    "df2.insert(0, 'subject',2)\n",
    "df3.insert(0, 'subject',3)\n",
    "df4.insert(0, 'subject',4)\n",
    "df5.insert(0, 'subject',5)\n",
    "df6.insert(0, 'subject',6)\n",
    "df7.insert(0, 'subject',7)\n",
    "df8.insert(0, 'subject',8)\n",
    "df9.insert(0, 'subject',9)\n",
    "df10.insert(0, 'subject',10)\n",
    "df11.insert(0, 'subject',11)\n",
    "df12.insert(0, 'subject',12)\n",
    "df13.insert(0, 'subject',13)\n",
    "df14.insert(0, 'subject',14)\n",
    "df15.insert(0, 'subject',15)\n",
    "df16.insert(0, 'subject',16)"
   ]
  },
  {
   "cell_type": "code",
   "execution_count": 4,
   "id": "a6892c8a",
   "metadata": {},
   "outputs": [
    {
     "name": "stderr",
     "output_type": "stream",
     "text": [
      "C:\\Users\\bensk\\anaconda3\\lib\\site-packages\\pandas\\core\\indexing.py:1637: SettingWithCopyWarning: \n",
      "A value is trying to be set on a copy of a slice from a DataFrame\n",
      "\n",
      "See the caveats in the documentation: https://pandas.pydata.org/pandas-docs/stable/user_guide/indexing.html#returning-a-view-versus-a-copy\n",
      "  self._setitem_single_block(indexer, value, name)\n"
     ]
    }
   ],
   "source": [
    "a = df1\n",
    "\n",
    "x=len(a)\n",
    "mean_HR = a[\"HR\"].mean()\n",
    "mean_SM = a[\"sedentary mins\"].mean()\n",
    "mean_MAs = a[\"minutesAsleep\"].mean()\n",
    "mean_MAw = a[\"minutesAwake\"].mean()\n",
    "mean_DS = a[\"deep_sleep_in_minutes\"].mean()\n",
    "mean_TB = a[\"timeInBed\"].mean()\n",
    "mean_RS = a[\"restlessness\"].mean()\n",
    "mean_ST = a[\"stepsToday\"].mean()\n",
    "mean_VM = a[\"very active mins\"].mean()\n",
    "\n",
    "for j in range(x):\n",
    "    if a['HR'].loc[j] > mean_HR or a[\"sedentary mins\"].loc[j] > mean_SM or a[\"minutesAsleep\"].loc[j] < mean_MAs or a[\"minutesAwake\"].loc[j] > mean_MAw or a[\"deep_sleep_in_minutes\"].loc[j] < mean_DS or a[\"timeInBed\"].loc[j] < mean_TB or a[\"restlessness\"].loc[j] > mean_RS or a[\"stepsToday\"].loc[j] < mean_ST or a[\"very active mins\"].loc[j] < mean_VM:\n",
    "        a['Fecal calprotectin >100'].loc[j] = np.random.choice([1, 0], p=[0.2, 0.8], replace=True)\n",
    "        a['C-reactive protein >10'].loc[j] = np.random.choice([1, 0], p=[0.1, 0.9], replace=True)\n",
    "        a['Hospital admission'].loc[j] = np.random.choice([1, 0], p=[0.1, 0.9], replace=True)\n",
    "        a['Prescribed prednisolone'].loc[j] = np.random.choice([1, 0], p=[0.1, 0.9], replace=True)\n",
    "        a['Change of medication'].loc[j] = np.random.choice([1, 0], p=[0.05, 0.95], replace=True)\n",
    "    else:\n",
    "        a['Fecal calprotectin >100'].loc[j] = 0\n",
    "        a['C-reactive protein >10'].loc[j] = 0\n",
    "        a['Hospital admission'].loc[j] = 0\n",
    "        a['Prescribed prednisolone'].loc[j] = 0\n",
    "        a['Change of medication'].loc[j] = 0\n",
    "        \n",
    "        \n",
    "        \n",
    "        \n",
    "a['Total indicators'] = a['Fecal calprotectin >100'] + a['C-reactive protein >10'] + a['Hospital admission'] + a['Prescribed prednisolone'] + a['Change of medication']\n",
    "df1 = a"
   ]
  },
  {
   "cell_type": "code",
   "execution_count": 5,
   "id": "e0179213",
   "metadata": {},
   "outputs": [
    {
     "ename": "NameError",
     "evalue": "name 'df' is not defined",
     "output_type": "error",
     "traceback": [
      "\u001b[1;31m---------------------------------------------------------------------------\u001b[0m",
      "\u001b[1;31mNameError\u001b[0m                                 Traceback (most recent call last)",
      "\u001b[1;32m<ipython-input-5-b7ec48e0f2bf>\u001b[0m in \u001b[0;36m<module>\u001b[1;34m\u001b[0m\n\u001b[1;32m----> 1\u001b[1;33m \u001b[1;32mdel\u001b[0m \u001b[0mdf\u001b[0m\u001b[1;33m\u001b[0m\u001b[1;33m\u001b[0m\u001b[0m\n\u001b[0m",
      "\u001b[1;31mNameError\u001b[0m: name 'df' is not defined"
     ]
    }
   ],
   "source": [
    "\n",
    "a.loc[a['Total indicators'] == 0, 'Flare'] = 'False'\n",
    "a.loc[a['Total indicators'] > 0, 'Flare'] = 'True' \n"
   ]
  },
  {
   "cell_type": "code",
   "execution_count": null,
   "id": "55a0452a",
   "metadata": {},
   "outputs": [],
   "source": [
    "df"
   ]
  },
  {
   "cell_type": "code",
   "execution_count": 6,
   "id": "d2528dff",
   "metadata": {},
   "outputs": [],
   "source": [
    "df = df1\n",
    "df = df.append(df2)\n",
    "df = df.append(df3)\n",
    "df = df.append(df4)\n",
    "df = df.append(df5)\n",
    "df = df.append(df6)\n",
    "df = df.append(df7)\n",
    "df = df.append(df8)\n",
    "df = df.append(df9)\n",
    "df = df.append(df10)\n",
    "df = df.append(df11)\n",
    "df = df.append(df12)\n",
    "df = df.append(df13)\n",
    "df = df.append(df14)\n",
    "df = df.append(df15)\n",
    "df = df.append(df16)"
   ]
  },
  {
   "cell_type": "code",
   "execution_count": 7,
   "id": "a25ab2e5",
   "metadata": {},
   "outputs": [],
   "source": [
    "df.drop('Fecal calprotectin >100', inplace=True, axis=1)\n",
    "df.drop('C-reactive protein >10', inplace=True, axis=1)\n",
    "df.drop('Hospital admission', inplace=True, axis=1)\n",
    "df.drop('Prescribed prednisolone', inplace=True, axis=1)\n",
    "df.drop('Change of medication', inplace=True, axis=1)\n",
    "df.drop('date', inplace=True, axis=1)\n",
    "#df.drop('subject',inplace=True, axis=1)"
   ]
  },
  {
   "cell_type": "code",
   "execution_count": 8,
   "id": "2a7ea4a5",
   "metadata": {},
   "outputs": [],
   "source": [
    "df.dropna(subset = [\"HR\",\"sedentary mins\",\"minutesAsleep\",\"minutesAwake\",\"deep_sleep_in_minutes\",\"timeInBed\",\"restlessness\",\"stepsToday\",\"very active mins\"], inplace=True)"
   ]
  },
  {
   "cell_type": "code",
   "execution_count": 9,
   "id": "d149fc5e",
   "metadata": {},
   "outputs": [],
   "source": [
    "df.loc[df['Total indicators'] == 0, 'Flare'] = 'False'\n",
    "df.loc[df['Total indicators'] > 0, 'Flare'] = 'True' "
   ]
  },
  {
   "cell_type": "code",
   "execution_count": 10,
   "id": "31742fdf",
   "metadata": {},
   "outputs": [],
   "source": [
    "df = df.convert_dtypes()"
   ]
  },
  {
   "cell_type": "code",
   "execution_count": 11,
   "id": "1d5c74bc",
   "metadata": {},
   "outputs": [],
   "source": [
    "df['Flare'] = df['Flare'].map({'False': False, 'True': True})"
   ]
  },
  {
   "cell_type": "code",
   "execution_count": 12,
   "id": "755f7abe",
   "metadata": {},
   "outputs": [],
   "source": [
    "df.drop('Total indicators',inplace=True, axis=1)"
   ]
  },
  {
   "cell_type": "code",
   "execution_count": 13,
   "id": "061f40be",
   "metadata": {},
   "outputs": [],
   "source": [
    "df1 = df.loc[df['subject'] == 1]\n",
    "df2 = df.loc[df['subject'] == 2]\n",
    "df3 = df.loc[df['subject'] == 3]\n",
    "df4 = df.loc[df['subject'] == 4]\n",
    "df5 = df.loc[df['subject'] == 5]\n",
    "df6 = df.loc[df['subject'] == 6]\n",
    "df7 = df.loc[df['subject'] == 7]\n",
    "df8 = df.loc[df['subject'] == 8]\n",
    "df9 = df.loc[df['subject'] == 9]\n",
    "df10 = df.loc[df['subject'] == 10]\n",
    "df11 = df.loc[df['subject'] == 11]\n",
    "df12 = df.loc[df['subject'] == 12]\n",
    "df13 = df.loc[df['subject'] == 13]\n",
    "df14 = df.loc[df['subject'] == 14]\n",
    "df15 = df.loc[df['subject'] == 15]\n",
    "df16 = df.loc[df['subject'] == 16]"
   ]
  },
  {
   "cell_type": "code",
   "execution_count": 14,
   "id": "f7abb9e1",
   "metadata": {},
   "outputs": [],
   "source": [
    "df.to_csv(\"final_df.csv\")"
   ]
  },
  {
   "cell_type": "code",
   "execution_count": 15,
   "id": "40414d4c",
   "metadata": {},
   "outputs": [],
   "source": [
    "df1.to_csv(\"df1.csv\")\n",
    "df2.to_csv(\"df2.csv\")\n",
    "df3.to_csv(\"df3.csv\")\n",
    "df4.to_csv(\"df4.csv\")\n",
    "df5.to_csv(\"df5.csv\")\n",
    "df6.to_csv(\"df6.csv\")\n",
    "df7.to_csv(\"df7.csv\")\n",
    "df8.to_csv(\"df8.csv\")\n",
    "df9.to_csv(\"df9.csv\")\n",
    "df10.to_csv(\"df10.csv\")\n",
    "df11.to_csv(\"df11.csv\")\n",
    "df12.to_csv(\"df12.csv\")\n",
    "df13.to_csv(\"df13.csv\")\n",
    "df14.to_csv(\"df14.csv\")\n",
    "df15.to_csv(\"df15.csv\")\n",
    "df16.to_csv(\"df16.csv\")"
   ]
  },
  {
   "cell_type": "code",
   "execution_count": null,
   "id": "fd921045",
   "metadata": {},
   "outputs": [],
   "source": []
  },
  {
   "cell_type": "code",
   "execution_count": null,
   "id": "2c940745",
   "metadata": {},
   "outputs": [],
   "source": []
  }
 ],
 "metadata": {
  "kernelspec": {
   "display_name": "Python 3",
   "language": "python",
   "name": "python3"
  },
  "language_info": {
   "codemirror_mode": {
    "name": "ipython",
    "version": 3
   },
   "file_extension": ".py",
   "mimetype": "text/x-python",
   "name": "python",
   "nbconvert_exporter": "python",
   "pygments_lexer": "ipython3",
   "version": "3.8.8"
  }
 },
 "nbformat": 4,
 "nbformat_minor": 5
}
