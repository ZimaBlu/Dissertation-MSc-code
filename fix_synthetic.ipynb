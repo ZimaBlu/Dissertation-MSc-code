{
 "cells": [
  {
   "cell_type": "code",
   "execution_count": null,
   "id": "581086e6",
   "metadata": {},
   "outputs": [],
   "source": [
    "import pandas as pd"
   ]
  },
  {
   "cell_type": "code",
   "execution_count": null,
   "id": "458bafc9",
   "metadata": {},
   "outputs": [],
   "source": [
    "df1 = df.read_csv(\"df1.csv\")"
   ]
  },
  {
   "cell_type": "code",
   "execution_count": null,
   "id": "54f2a5de",
   "metadata": {},
   "outputs": [],
   "source": [
    "#average"
   ]
  },
  {
   "cell_type": "code",
   "execution_count": null,
   "id": "787e99a4",
   "metadata": {},
   "outputs": [],
   "source": []
  },
  {
   "cell_type": "code",
   "execution_count": null,
   "id": "10232fe0",
   "metadata": {},
   "outputs": [],
   "source": [
    "df['Fecal calprotectin >100'] = np.random.choice([1, 0], len(df), p=[0.15, 0.85])"
   ]
  }
 ],
 "metadata": {
  "kernelspec": {
   "display_name": "Python 3",
   "language": "python",
   "name": "python3"
  }
 },
 "nbformat": 4,
 "nbformat_minor": 5
}
