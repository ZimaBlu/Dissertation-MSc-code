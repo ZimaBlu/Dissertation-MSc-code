{
 "cells": [
  {
   "cell_type": "code",
   "execution_count": 16,
   "id": "3c6b1beb",
   "metadata": {},
   "outputs": [],
   "source": [
    "import pandas as pd\n",
    "import numpy as np \n",
    "import matplotlib.pyplot as plt\n",
    "import sklearn\n",
    "from sklearn.neural_network import MLPClassifier\n",
    "from sklearn.neural_network import MLPRegressor\n",
    "\n",
    "# Import necessary modules\n",
    "from sklearn.model_selection import train_test_split\n",
    "from sklearn.metrics import mean_squared_error\n",
    "from math import sqrt\n",
    "from sklearn.metrics import r2_score"
   ]
  },
  {
   "cell_type": "code",
   "execution_count": 17,
   "id": "58674c37",
   "metadata": {},
   "outputs": [],
   "source": [
    "df = pd.read_csv(\"final_df.csv\", index_col=0)\n",
    "#df = pd.read_csv(\"df1.csv\", index_col=0)"
   ]
  },
  {
   "cell_type": "code",
   "execution_count": 18,
   "id": "80d58df2",
   "metadata": {},
   "outputs": [
    {
     "name": "stdout",
     "output_type": "stream",
     "text": [
      "(2015, 11)\n"
     ]
    },
    {
     "data": {
      "text/html": [
       "<div>\n",
       "<style scoped>\n",
       "    .dataframe tbody tr th:only-of-type {\n",
       "        vertical-align: middle;\n",
       "    }\n",
       "\n",
       "    .dataframe tbody tr th {\n",
       "        vertical-align: top;\n",
       "    }\n",
       "\n",
       "    .dataframe thead th {\n",
       "        text-align: right;\n",
       "    }\n",
       "</style>\n",
       "<table border=\"1\" class=\"dataframe\">\n",
       "  <thead>\n",
       "    <tr style=\"text-align: right;\">\n",
       "      <th></th>\n",
       "      <th>count</th>\n",
       "      <th>mean</th>\n",
       "      <th>std</th>\n",
       "      <th>min</th>\n",
       "      <th>25%</th>\n",
       "      <th>50%</th>\n",
       "      <th>75%</th>\n",
       "      <th>max</th>\n",
       "    </tr>\n",
       "  </thead>\n",
       "  <tbody>\n",
       "    <tr>\n",
       "      <th>subject</th>\n",
       "      <td>2015.0</td>\n",
       "      <td>8.020347</td>\n",
       "      <td>4.707753</td>\n",
       "      <td>1.000000</td>\n",
       "      <td>4.000000</td>\n",
       "      <td>7.000000</td>\n",
       "      <td>11.000000</td>\n",
       "      <td>16.000000</td>\n",
       "    </tr>\n",
       "    <tr>\n",
       "      <th>HR</th>\n",
       "      <td>2015.0</td>\n",
       "      <td>61.742266</td>\n",
       "      <td>6.931676</td>\n",
       "      <td>31.656367</td>\n",
       "      <td>57.050363</td>\n",
       "      <td>61.843918</td>\n",
       "      <td>67.074265</td>\n",
       "      <td>83.088809</td>\n",
       "    </tr>\n",
       "    <tr>\n",
       "      <th>sedentary mins</th>\n",
       "      <td>2015.0</td>\n",
       "      <td>672.759305</td>\n",
       "      <td>141.273345</td>\n",
       "      <td>204.000000</td>\n",
       "      <td>582.000000</td>\n",
       "      <td>660.000000</td>\n",
       "      <td>761.500000</td>\n",
       "      <td>1227.000000</td>\n",
       "    </tr>\n",
       "    <tr>\n",
       "      <th>minutesAsleep</th>\n",
       "      <td>2015.0</td>\n",
       "      <td>390.851117</td>\n",
       "      <td>107.571766</td>\n",
       "      <td>39.000000</td>\n",
       "      <td>350.000000</td>\n",
       "      <td>402.000000</td>\n",
       "      <td>454.000000</td>\n",
       "      <td>823.000000</td>\n",
       "    </tr>\n",
       "    <tr>\n",
       "      <th>minutesAwake</th>\n",
       "      <td>2015.0</td>\n",
       "      <td>57.338462</td>\n",
       "      <td>24.556111</td>\n",
       "      <td>0.000000</td>\n",
       "      <td>43.000000</td>\n",
       "      <td>56.000000</td>\n",
       "      <td>71.000000</td>\n",
       "      <td>170.000000</td>\n",
       "    </tr>\n",
       "    <tr>\n",
       "      <th>deep_sleep_in_minutes</th>\n",
       "      <td>2015.0</td>\n",
       "      <td>72.904715</td>\n",
       "      <td>28.033617</td>\n",
       "      <td>0.000000</td>\n",
       "      <td>54.000000</td>\n",
       "      <td>72.000000</td>\n",
       "      <td>91.000000</td>\n",
       "      <td>183.000000</td>\n",
       "    </tr>\n",
       "    <tr>\n",
       "      <th>timeInBed</th>\n",
       "      <td>2015.0</td>\n",
       "      <td>448.489826</td>\n",
       "      <td>126.037225</td>\n",
       "      <td>60.000000</td>\n",
       "      <td>399.000000</td>\n",
       "      <td>463.000000</td>\n",
       "      <td>520.000000</td>\n",
       "      <td>953.000000</td>\n",
       "    </tr>\n",
       "    <tr>\n",
       "      <th>restlessness</th>\n",
       "      <td>2015.0</td>\n",
       "      <td>0.091093</td>\n",
       "      <td>0.037817</td>\n",
       "      <td>0.015385</td>\n",
       "      <td>0.062650</td>\n",
       "      <td>0.084960</td>\n",
       "      <td>0.110478</td>\n",
       "      <td>0.294766</td>\n",
       "    </tr>\n",
       "    <tr>\n",
       "      <th>stepsToday</th>\n",
       "      <td>2015.0</td>\n",
       "      <td>11623.849132</td>\n",
       "      <td>6343.438655</td>\n",
       "      <td>0.000000</td>\n",
       "      <td>7202.000000</td>\n",
       "      <td>11532.000000</td>\n",
       "      <td>16058.500000</td>\n",
       "      <td>39835.000000</td>\n",
       "    </tr>\n",
       "    <tr>\n",
       "      <th>very active mins</th>\n",
       "      <td>2015.0</td>\n",
       "      <td>48.577667</td>\n",
       "      <td>47.138872</td>\n",
       "      <td>0.000000</td>\n",
       "      <td>10.000000</td>\n",
       "      <td>38.000000</td>\n",
       "      <td>73.500000</td>\n",
       "      <td>336.000000</td>\n",
       "    </tr>\n",
       "  </tbody>\n",
       "</table>\n",
       "</div>"
      ],
      "text/plain": [
       "                        count          mean          std         min  \\\n",
       "subject                2015.0      8.020347     4.707753    1.000000   \n",
       "HR                     2015.0     61.742266     6.931676   31.656367   \n",
       "sedentary mins         2015.0    672.759305   141.273345  204.000000   \n",
       "minutesAsleep          2015.0    390.851117   107.571766   39.000000   \n",
       "minutesAwake           2015.0     57.338462    24.556111    0.000000   \n",
       "deep_sleep_in_minutes  2015.0     72.904715    28.033617    0.000000   \n",
       "timeInBed              2015.0    448.489826   126.037225   60.000000   \n",
       "restlessness           2015.0      0.091093     0.037817    0.015385   \n",
       "stepsToday             2015.0  11623.849132  6343.438655    0.000000   \n",
       "very active mins       2015.0     48.577667    47.138872    0.000000   \n",
       "\n",
       "                               25%           50%           75%           max  \n",
       "subject                   4.000000      7.000000     11.000000     16.000000  \n",
       "HR                       57.050363     61.843918     67.074265     83.088809  \n",
       "sedentary mins          582.000000    660.000000    761.500000   1227.000000  \n",
       "minutesAsleep           350.000000    402.000000    454.000000    823.000000  \n",
       "minutesAwake             43.000000     56.000000     71.000000    170.000000  \n",
       "deep_sleep_in_minutes    54.000000     72.000000     91.000000    183.000000  \n",
       "timeInBed               399.000000    463.000000    520.000000    953.000000  \n",
       "restlessness              0.062650      0.084960      0.110478      0.294766  \n",
       "stepsToday             7202.000000  11532.000000  16058.500000  39835.000000  \n",
       "very active mins         10.000000     38.000000     73.500000    336.000000  "
      ]
     },
     "execution_count": 18,
     "metadata": {},
     "output_type": "execute_result"
    }
   ],
   "source": [
    "print(df.shape)\n",
    "df.describe().transpose()"
   ]
  },
  {
   "cell_type": "code",
   "execution_count": 19,
   "id": "7a3c5ea3",
   "metadata": {},
   "outputs": [
    {
     "data": {
      "text/html": [
       "<div>\n",
       "<style scoped>\n",
       "    .dataframe tbody tr th:only-of-type {\n",
       "        vertical-align: middle;\n",
       "    }\n",
       "\n",
       "    .dataframe tbody tr th {\n",
       "        vertical-align: top;\n",
       "    }\n",
       "\n",
       "    .dataframe thead th {\n",
       "        text-align: right;\n",
       "    }\n",
       "</style>\n",
       "<table border=\"1\" class=\"dataframe\">\n",
       "  <thead>\n",
       "    <tr style=\"text-align: right;\">\n",
       "      <th></th>\n",
       "      <th>count</th>\n",
       "      <th>mean</th>\n",
       "      <th>std</th>\n",
       "      <th>min</th>\n",
       "      <th>25%</th>\n",
       "      <th>50%</th>\n",
       "      <th>75%</th>\n",
       "      <th>max</th>\n",
       "    </tr>\n",
       "  </thead>\n",
       "  <tbody>\n",
       "    <tr>\n",
       "      <th>subject</th>\n",
       "      <td>2015.0</td>\n",
       "      <td>0.501272</td>\n",
       "      <td>0.294235</td>\n",
       "      <td>0.062500</td>\n",
       "      <td>0.250000</td>\n",
       "      <td>0.437500</td>\n",
       "      <td>0.687500</td>\n",
       "      <td>1.0</td>\n",
       "    </tr>\n",
       "    <tr>\n",
       "      <th>HR</th>\n",
       "      <td>2015.0</td>\n",
       "      <td>0.743088</td>\n",
       "      <td>0.083425</td>\n",
       "      <td>0.380994</td>\n",
       "      <td>0.686619</td>\n",
       "      <td>0.744311</td>\n",
       "      <td>0.807260</td>\n",
       "      <td>1.0</td>\n",
       "    </tr>\n",
       "    <tr>\n",
       "      <th>sedentary mins</th>\n",
       "      <td>2015.0</td>\n",
       "      <td>0.548296</td>\n",
       "      <td>0.115137</td>\n",
       "      <td>0.166259</td>\n",
       "      <td>0.474328</td>\n",
       "      <td>0.537897</td>\n",
       "      <td>0.620619</td>\n",
       "      <td>1.0</td>\n",
       "    </tr>\n",
       "    <tr>\n",
       "      <th>minutesAsleep</th>\n",
       "      <td>2015.0</td>\n",
       "      <td>0.474910</td>\n",
       "      <td>0.130707</td>\n",
       "      <td>0.047388</td>\n",
       "      <td>0.425273</td>\n",
       "      <td>0.488457</td>\n",
       "      <td>0.551640</td>\n",
       "      <td>1.0</td>\n",
       "    </tr>\n",
       "    <tr>\n",
       "      <th>minutesAwake</th>\n",
       "      <td>2015.0</td>\n",
       "      <td>0.337285</td>\n",
       "      <td>0.144448</td>\n",
       "      <td>0.000000</td>\n",
       "      <td>0.252941</td>\n",
       "      <td>0.329412</td>\n",
       "      <td>0.417647</td>\n",
       "      <td>1.0</td>\n",
       "    </tr>\n",
       "    <tr>\n",
       "      <th>deep_sleep_in_minutes</th>\n",
       "      <td>2015.0</td>\n",
       "      <td>0.398386</td>\n",
       "      <td>0.153189</td>\n",
       "      <td>0.000000</td>\n",
       "      <td>0.295082</td>\n",
       "      <td>0.393443</td>\n",
       "      <td>0.497268</td>\n",
       "      <td>1.0</td>\n",
       "    </tr>\n",
       "    <tr>\n",
       "      <th>timeInBed</th>\n",
       "      <td>2015.0</td>\n",
       "      <td>0.470608</td>\n",
       "      <td>0.132253</td>\n",
       "      <td>0.062959</td>\n",
       "      <td>0.418678</td>\n",
       "      <td>0.485834</td>\n",
       "      <td>0.545645</td>\n",
       "      <td>1.0</td>\n",
       "    </tr>\n",
       "    <tr>\n",
       "      <th>restlessness</th>\n",
       "      <td>2015.0</td>\n",
       "      <td>0.309035</td>\n",
       "      <td>0.128293</td>\n",
       "      <td>0.052193</td>\n",
       "      <td>0.212541</td>\n",
       "      <td>0.288228</td>\n",
       "      <td>0.374800</td>\n",
       "      <td>1.0</td>\n",
       "    </tr>\n",
       "    <tr>\n",
       "      <th>stepsToday</th>\n",
       "      <td>2015.0</td>\n",
       "      <td>0.291800</td>\n",
       "      <td>0.159243</td>\n",
       "      <td>0.000000</td>\n",
       "      <td>0.180796</td>\n",
       "      <td>0.289494</td>\n",
       "      <td>0.403125</td>\n",
       "      <td>1.0</td>\n",
       "    </tr>\n",
       "    <tr>\n",
       "      <th>very active mins</th>\n",
       "      <td>2015.0</td>\n",
       "      <td>0.144576</td>\n",
       "      <td>0.140294</td>\n",
       "      <td>0.000000</td>\n",
       "      <td>0.029762</td>\n",
       "      <td>0.113095</td>\n",
       "      <td>0.218750</td>\n",
       "      <td>1.0</td>\n",
       "    </tr>\n",
       "  </tbody>\n",
       "</table>\n",
       "</div>"
      ],
      "text/plain": [
       "                        count      mean       std       min       25%  \\\n",
       "subject                2015.0  0.501272  0.294235  0.062500  0.250000   \n",
       "HR                     2015.0  0.743088  0.083425  0.380994  0.686619   \n",
       "sedentary mins         2015.0  0.548296  0.115137  0.166259  0.474328   \n",
       "minutesAsleep          2015.0  0.474910  0.130707  0.047388  0.425273   \n",
       "minutesAwake           2015.0  0.337285  0.144448  0.000000  0.252941   \n",
       "deep_sleep_in_minutes  2015.0  0.398386  0.153189  0.000000  0.295082   \n",
       "timeInBed              2015.0  0.470608  0.132253  0.062959  0.418678   \n",
       "restlessness           2015.0  0.309035  0.128293  0.052193  0.212541   \n",
       "stepsToday             2015.0  0.291800  0.159243  0.000000  0.180796   \n",
       "very active mins       2015.0  0.144576  0.140294  0.000000  0.029762   \n",
       "\n",
       "                            50%       75%  max  \n",
       "subject                0.437500  0.687500  1.0  \n",
       "HR                     0.744311  0.807260  1.0  \n",
       "sedentary mins         0.537897  0.620619  1.0  \n",
       "minutesAsleep          0.488457  0.551640  1.0  \n",
       "minutesAwake           0.329412  0.417647  1.0  \n",
       "deep_sleep_in_minutes  0.393443  0.497268  1.0  \n",
       "timeInBed              0.485834  0.545645  1.0  \n",
       "restlessness           0.288228  0.374800  1.0  \n",
       "stepsToday             0.289494  0.403125  1.0  \n",
       "very active mins       0.113095  0.218750  1.0  "
      ]
     },
     "execution_count": 19,
     "metadata": {},
     "output_type": "execute_result"
    }
   ],
   "source": [
    "target_column = ['Flare'] \n",
    "predictors = list(set(list(df.columns))-set(target_column))\n",
    "df[predictors] = df[predictors]/df[predictors].max()\n",
    "df.describe().transpose()"
   ]
  },
  {
   "cell_type": "code",
   "execution_count": 41,
   "id": "d465cbbe",
   "metadata": {},
   "outputs": [
    {
     "name": "stdout",
     "output_type": "stream",
     "text": [
      "(1410, 10)\n"
     ]
    }
   ],
   "source": [
    "X = df[predictors].values\n",
    "y = df[target_column].values\n",
    "X_train, X_test, y_train, y_test = train_test_split(X, y, test_size=0.3, random_state=40)\n",
    "\n",
    "print(X_train.shape)"
   ]
  },
  {
   "cell_type": "code",
   "execution_count": 42,
   "id": "d9fef5c3",
   "metadata": {},
   "outputs": [
    {
     "name": "stdout",
     "output_type": "stream",
     "text": [
      "(605, 10)\n"
     ]
    }
   ],
   "source": [
    "print(X_test.shape)"
   ]
  },
  {
   "cell_type": "code",
   "execution_count": 43,
   "id": "61141b73",
   "metadata": {},
   "outputs": [
    {
     "ename": "ValueError",
     "evalue": "cannot insert level_0, already exists",
     "output_type": "error",
     "traceback": [
      "\u001b[1;31m---------------------------------------------------------------------------\u001b[0m",
      "\u001b[1;31mValueError\u001b[0m                                Traceback (most recent call last)",
      "\u001b[1;32m<ipython-input-43-d02f1adb44bc>\u001b[0m in \u001b[0;36m<module>\u001b[1;34m\u001b[0m\n\u001b[1;32m----> 1\u001b[1;33m \u001b[0mdf\u001b[0m \u001b[1;33m=\u001b[0m \u001b[0mdf\u001b[0m\u001b[1;33m.\u001b[0m\u001b[0mreset_index\u001b[0m\u001b[1;33m(\u001b[0m\u001b[1;33m)\u001b[0m\u001b[1;33m\u001b[0m\u001b[1;33m\u001b[0m\u001b[0m\n\u001b[0m",
      "\u001b[1;32m~\\anaconda3\\lib\\site-packages\\pandas\\core\\frame.py\u001b[0m in \u001b[0;36mreset_index\u001b[1;34m(self, level, drop, inplace, col_level, col_fill)\u001b[0m\n\u001b[0;32m   5014\u001b[0m                 \u001b[1;31m# to ndarray and maybe infer different dtype\u001b[0m\u001b[1;33m\u001b[0m\u001b[1;33m\u001b[0m\u001b[1;33m\u001b[0m\u001b[0m\n\u001b[0;32m   5015\u001b[0m                 \u001b[0mlevel_values\u001b[0m \u001b[1;33m=\u001b[0m \u001b[0mmaybe_casted_values\u001b[0m\u001b[1;33m(\u001b[0m\u001b[0mlev\u001b[0m\u001b[1;33m,\u001b[0m \u001b[0mlab\u001b[0m\u001b[1;33m)\u001b[0m\u001b[1;33m\u001b[0m\u001b[1;33m\u001b[0m\u001b[0m\n\u001b[1;32m-> 5016\u001b[1;33m                 \u001b[0mnew_obj\u001b[0m\u001b[1;33m.\u001b[0m\u001b[0minsert\u001b[0m\u001b[1;33m(\u001b[0m\u001b[1;36m0\u001b[0m\u001b[1;33m,\u001b[0m \u001b[0mname\u001b[0m\u001b[1;33m,\u001b[0m \u001b[0mlevel_values\u001b[0m\u001b[1;33m)\u001b[0m\u001b[1;33m\u001b[0m\u001b[1;33m\u001b[0m\u001b[0m\n\u001b[0m\u001b[0;32m   5017\u001b[0m \u001b[1;33m\u001b[0m\u001b[0m\n\u001b[0;32m   5018\u001b[0m         \u001b[0mnew_obj\u001b[0m\u001b[1;33m.\u001b[0m\u001b[0mindex\u001b[0m \u001b[1;33m=\u001b[0m \u001b[0mnew_index\u001b[0m\u001b[1;33m\u001b[0m\u001b[1;33m\u001b[0m\u001b[0m\n",
      "\u001b[1;32m~\\anaconda3\\lib\\site-packages\\pandas\\core\\frame.py\u001b[0m in \u001b[0;36minsert\u001b[1;34m(self, loc, column, value, allow_duplicates)\u001b[0m\n\u001b[0;32m   3761\u001b[0m         \u001b[0mself\u001b[0m\u001b[1;33m.\u001b[0m\u001b[0m_ensure_valid_index\u001b[0m\u001b[1;33m(\u001b[0m\u001b[0mvalue\u001b[0m\u001b[1;33m)\u001b[0m\u001b[1;33m\u001b[0m\u001b[1;33m\u001b[0m\u001b[0m\n\u001b[0;32m   3762\u001b[0m         \u001b[0mvalue\u001b[0m \u001b[1;33m=\u001b[0m \u001b[0mself\u001b[0m\u001b[1;33m.\u001b[0m\u001b[0m_sanitize_column\u001b[0m\u001b[1;33m(\u001b[0m\u001b[0mcolumn\u001b[0m\u001b[1;33m,\u001b[0m \u001b[0mvalue\u001b[0m\u001b[1;33m,\u001b[0m \u001b[0mbroadcast\u001b[0m\u001b[1;33m=\u001b[0m\u001b[1;32mFalse\u001b[0m\u001b[1;33m)\u001b[0m\u001b[1;33m\u001b[0m\u001b[1;33m\u001b[0m\u001b[0m\n\u001b[1;32m-> 3763\u001b[1;33m         \u001b[0mself\u001b[0m\u001b[1;33m.\u001b[0m\u001b[0m_mgr\u001b[0m\u001b[1;33m.\u001b[0m\u001b[0minsert\u001b[0m\u001b[1;33m(\u001b[0m\u001b[0mloc\u001b[0m\u001b[1;33m,\u001b[0m \u001b[0mcolumn\u001b[0m\u001b[1;33m,\u001b[0m \u001b[0mvalue\u001b[0m\u001b[1;33m,\u001b[0m \u001b[0mallow_duplicates\u001b[0m\u001b[1;33m=\u001b[0m\u001b[0mallow_duplicates\u001b[0m\u001b[1;33m)\u001b[0m\u001b[1;33m\u001b[0m\u001b[1;33m\u001b[0m\u001b[0m\n\u001b[0m\u001b[0;32m   3764\u001b[0m \u001b[1;33m\u001b[0m\u001b[0m\n\u001b[0;32m   3765\u001b[0m     \u001b[1;32mdef\u001b[0m \u001b[0massign\u001b[0m\u001b[1;33m(\u001b[0m\u001b[0mself\u001b[0m\u001b[1;33m,\u001b[0m \u001b[1;33m**\u001b[0m\u001b[0mkwargs\u001b[0m\u001b[1;33m)\u001b[0m \u001b[1;33m->\u001b[0m \u001b[0mDataFrame\u001b[0m\u001b[1;33m:\u001b[0m\u001b[1;33m\u001b[0m\u001b[1;33m\u001b[0m\u001b[0m\n",
      "\u001b[1;32m~\\anaconda3\\lib\\site-packages\\pandas\\core\\internals\\managers.py\u001b[0m in \u001b[0;36minsert\u001b[1;34m(self, loc, item, value, allow_duplicates)\u001b[0m\n\u001b[0;32m   1189\u001b[0m         \u001b[1;32mif\u001b[0m \u001b[1;32mnot\u001b[0m \u001b[0mallow_duplicates\u001b[0m \u001b[1;32mand\u001b[0m \u001b[0mitem\u001b[0m \u001b[1;32min\u001b[0m \u001b[0mself\u001b[0m\u001b[1;33m.\u001b[0m\u001b[0mitems\u001b[0m\u001b[1;33m:\u001b[0m\u001b[1;33m\u001b[0m\u001b[1;33m\u001b[0m\u001b[0m\n\u001b[0;32m   1190\u001b[0m             \u001b[1;31m# Should this be a different kind of error??\u001b[0m\u001b[1;33m\u001b[0m\u001b[1;33m\u001b[0m\u001b[1;33m\u001b[0m\u001b[0m\n\u001b[1;32m-> 1191\u001b[1;33m             \u001b[1;32mraise\u001b[0m \u001b[0mValueError\u001b[0m\u001b[1;33m(\u001b[0m\u001b[1;34mf\"cannot insert {item}, already exists\"\u001b[0m\u001b[1;33m)\u001b[0m\u001b[1;33m\u001b[0m\u001b[1;33m\u001b[0m\u001b[0m\n\u001b[0m\u001b[0;32m   1192\u001b[0m \u001b[1;33m\u001b[0m\u001b[0m\n\u001b[0;32m   1193\u001b[0m         \u001b[1;32mif\u001b[0m \u001b[1;32mnot\u001b[0m \u001b[0misinstance\u001b[0m\u001b[1;33m(\u001b[0m\u001b[0mloc\u001b[0m\u001b[1;33m,\u001b[0m \u001b[0mint\u001b[0m\u001b[1;33m)\u001b[0m\u001b[1;33m:\u001b[0m\u001b[1;33m\u001b[0m\u001b[1;33m\u001b[0m\u001b[0m\n",
      "\u001b[1;31mValueError\u001b[0m: cannot insert level_0, already exists"
     ]
    }
   ],
   "source": [
    "df = df.reset_index()"
   ]
  },
  {
   "cell_type": "code",
   "execution_count": 46,
   "id": "e9b986ba",
   "metadata": {},
   "outputs": [],
   "source": [
    "from sklearn.neural_network import MLPClassifier\n",
    "\n",
    "mlp = MLPClassifier(hidden_layer_sizes=(8,8,8), activation='relu', solver='adam', max_iter=500)\n",
    "mlp.fit(X_train,y_train.ravel())\n",
    "predict_train = mlp.predict(X_train)\n",
    "predict_test = mlp.predict(X_test)"
   ]
  },
  {
   "cell_type": "code",
   "execution_count": 47,
   "id": "54f32830",
   "metadata": {},
   "outputs": [],
   "source": [
    "from sklearn.metrics import classification_report,confusion_matrix"
   ]
  },
  {
   "cell_type": "code",
   "execution_count": 48,
   "id": "d213eea1",
   "metadata": {},
   "outputs": [
    {
     "name": "stdout",
     "output_type": "stream",
     "text": [
      "[[  0 618]\n",
      " [  0 792]]\n"
     ]
    }
   ],
   "source": [
    "print(confusion_matrix(y_train,predict_train))"
   ]
  },
  {
   "cell_type": "code",
   "execution_count": 49,
   "id": "f4f92eb5",
   "metadata": {},
   "outputs": [
    {
     "name": "stdout",
     "output_type": "stream",
     "text": [
      "              precision    recall  f1-score   support\n",
      "\n",
      "       False       0.00      0.00      0.00       618\n",
      "        True       0.56      1.00      0.72       792\n",
      "\n",
      "    accuracy                           0.56      1410\n",
      "   macro avg       0.28      0.50      0.36      1410\n",
      "weighted avg       0.32      0.56      0.40      1410\n",
      "\n"
     ]
    },
    {
     "name": "stderr",
     "output_type": "stream",
     "text": [
      "C:\\Users\\bensk\\anaconda3\\lib\\site-packages\\sklearn\\metrics\\_classification.py:1245: UndefinedMetricWarning: Precision and F-score are ill-defined and being set to 0.0 in labels with no predicted samples. Use `zero_division` parameter to control this behavior.\n",
      "  _warn_prf(average, modifier, msg_start, len(result))\n",
      "C:\\Users\\bensk\\anaconda3\\lib\\site-packages\\sklearn\\metrics\\_classification.py:1245: UndefinedMetricWarning: Precision and F-score are ill-defined and being set to 0.0 in labels with no predicted samples. Use `zero_division` parameter to control this behavior.\n",
      "  _warn_prf(average, modifier, msg_start, len(result))\n",
      "C:\\Users\\bensk\\anaconda3\\lib\\site-packages\\sklearn\\metrics\\_classification.py:1245: UndefinedMetricWarning: Precision and F-score are ill-defined and being set to 0.0 in labels with no predicted samples. Use `zero_division` parameter to control this behavior.\n",
      "  _warn_prf(average, modifier, msg_start, len(result))\n"
     ]
    }
   ],
   "source": [
    "print(classification_report(y_train,predict_train))"
   ]
  },
  {
   "cell_type": "code",
   "execution_count": 50,
   "id": "d560c84e",
   "metadata": {},
   "outputs": [
    {
     "name": "stdout",
     "output_type": "stream",
     "text": [
      "[[  0 274]\n",
      " [  0 331]]\n"
     ]
    }
   ],
   "source": [
    "print(confusion_matrix(y_test,predict_test))"
   ]
  },
  {
   "cell_type": "code",
   "execution_count": 51,
   "id": "2ecd5438",
   "metadata": {},
   "outputs": [
    {
     "name": "stdout",
     "output_type": "stream",
     "text": [
      "              precision    recall  f1-score   support\n",
      "\n",
      "       False       0.00      0.00      0.00       274\n",
      "        True       0.55      1.00      0.71       331\n",
      "\n",
      "    accuracy                           0.55       605\n",
      "   macro avg       0.27      0.50      0.35       605\n",
      "weighted avg       0.30      0.55      0.39       605\n",
      "\n"
     ]
    },
    {
     "name": "stderr",
     "output_type": "stream",
     "text": [
      "C:\\Users\\bensk\\anaconda3\\lib\\site-packages\\sklearn\\metrics\\_classification.py:1245: UndefinedMetricWarning: Precision and F-score are ill-defined and being set to 0.0 in labels with no predicted samples. Use `zero_division` parameter to control this behavior.\n",
      "  _warn_prf(average, modifier, msg_start, len(result))\n",
      "C:\\Users\\bensk\\anaconda3\\lib\\site-packages\\sklearn\\metrics\\_classification.py:1245: UndefinedMetricWarning: Precision and F-score are ill-defined and being set to 0.0 in labels with no predicted samples. Use `zero_division` parameter to control this behavior.\n",
      "  _warn_prf(average, modifier, msg_start, len(result))\n",
      "C:\\Users\\bensk\\anaconda3\\lib\\site-packages\\sklearn\\metrics\\_classification.py:1245: UndefinedMetricWarning: Precision and F-score are ill-defined and being set to 0.0 in labels with no predicted samples. Use `zero_division` parameter to control this behavior.\n",
      "  _warn_prf(average, modifier, msg_start, len(result))\n"
     ]
    }
   ],
   "source": [
    "print(classification_report(y_test,predict_test))"
   ]
  },
  {
   "cell_type": "code",
   "execution_count": null,
   "id": "9d56eb95",
   "metadata": {},
   "outputs": [],
   "source": []
  },
  {
   "cell_type": "code",
   "execution_count": null,
   "id": "67a083ff",
   "metadata": {},
   "outputs": [],
   "source": []
  }
 ],
 "metadata": {
  "kernelspec": {
   "display_name": "Python 3",
   "language": "python",
   "name": "python3"
  },
  "language_info": {
   "codemirror_mode": {
    "name": "ipython",
    "version": 3
   },
   "file_extension": ".py",
   "mimetype": "text/x-python",
   "name": "python",
   "nbconvert_exporter": "python",
   "pygments_lexer": "ipython3",
   "version": "3.8.8"
  }
 },
 "nbformat": 4,
 "nbformat_minor": 5
}
