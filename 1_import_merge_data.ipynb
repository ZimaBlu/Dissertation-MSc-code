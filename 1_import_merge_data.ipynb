{
 "cells": [
  {
   "cell_type": "code",
   "execution_count": 1,
   "id": "c5cb04e2",
   "metadata": {},
   "outputs": [],
   "source": [
    "import pandas as pd"
   ]
  },
  {
   "cell_type": "code",
   "execution_count": 2,
   "id": "cf016787",
   "metadata": {},
   "outputs": [],
   "source": [
    "# Notes for tommorow Ben\n",
    "# Done: sleep duration(sleep.json: sum light, deep, REM sleeps) , sleep quality(sleep.json percentage of time in light, \n",
    "# deep, REM sleeps and time awake), number of daily steps (steps.json sum steps per  day), \n",
    "# average daily heart rate (resting, heart_rate.json)\n",
    "\n",
    "# To do: quantity of vigorous exercise (very_active_minutes.json), sedentary_minutes\n",
    "# Merge all into one df, maybe start producing synthetic data and running ML algorithms on it\n",
    "\n",
    "# Also could look at feedback for RPP and if it is valuable for what I have done/plan to do.\n",
    "\n",
    "# You got this you fuckingg ledgend, love you man xx"
   ]
  },
  {
   "cell_type": "code",
   "execution_count": 3,
   "id": "b254be31",
   "metadata": {},
   "outputs": [],
   "source": [
    "heart_rate = pd.read_json(\"heart_rate.json\")"
   ]
  },
  {
   "cell_type": "code",
   "execution_count": 4,
   "id": "17d1cf7c",
   "metadata": {},
   "outputs": [],
   "source": [
    "sedentary_minutes = pd.read_json(\"sedentary_minutes.json\")"
   ]
  },
  {
   "cell_type": "code",
   "execution_count": 5,
   "id": "a1b9baee",
   "metadata": {},
   "outputs": [],
   "source": [
    "sleep = pd.read_json(\"sleep.json\")"
   ]
  },
  {
   "cell_type": "code",
   "execution_count": 6,
   "id": "0bdf5980",
   "metadata": {},
   "outputs": [],
   "source": [
    "sleep_score = pd.read_csv(\"sleep_score.csv\")"
   ]
  },
  {
   "cell_type": "code",
   "execution_count": 7,
   "id": "3c7b8a67",
   "metadata": {},
   "outputs": [],
   "source": [
    "steps = pd.read_json(\"steps.json\")"
   ]
  },
  {
   "cell_type": "code",
   "execution_count": 8,
   "id": "fcd73f00",
   "metadata": {},
   "outputs": [],
   "source": [
    "very_active_minutes = pd.read_json(\"very_active_minutes.json\")"
   ]
  },
  {
   "cell_type": "code",
   "execution_count": 9,
   "id": "29364f29",
   "metadata": {},
   "outputs": [],
   "source": [
    "pd.set_option('display.max_columns', None)\n",
    "pd.set_option('max_colwidth', 8000)"
   ]
  },
  {
   "cell_type": "code",
   "execution_count": 10,
   "id": "7ab93c2d",
   "metadata": {
    "scrolled": true
   },
   "outputs": [
    {
     "data": {
      "text/html": [
       "<div>\n",
       "<style scoped>\n",
       "    .dataframe tbody tr th:only-of-type {\n",
       "        vertical-align: middle;\n",
       "    }\n",
       "\n",
       "    .dataframe tbody tr th {\n",
       "        vertical-align: top;\n",
       "    }\n",
       "\n",
       "    .dataframe thead th {\n",
       "        text-align: right;\n",
       "    }\n",
       "</style>\n",
       "<table border=\"1\" class=\"dataframe\">\n",
       "  <thead>\n",
       "    <tr style=\"text-align: right;\">\n",
       "      <th></th>\n",
       "      <th>HR</th>\n",
       "    </tr>\n",
       "    <tr>\n",
       "      <th>date</th>\n",
       "      <th></th>\n",
       "    </tr>\n",
       "  </thead>\n",
       "  <tbody>\n",
       "    <tr>\n",
       "      <th>2019-11-01</th>\n",
       "      <td>62.386236</td>\n",
       "    </tr>\n",
       "    <tr>\n",
       "      <th>2019-11-02</th>\n",
       "      <td>59.207012</td>\n",
       "    </tr>\n",
       "    <tr>\n",
       "      <th>2019-11-03</th>\n",
       "      <td>62.188856</td>\n",
       "    </tr>\n",
       "    <tr>\n",
       "      <th>2019-11-04</th>\n",
       "      <td>60.898110</td>\n",
       "    </tr>\n",
       "    <tr>\n",
       "      <th>2019-11-05</th>\n",
       "      <td>56.284816</td>\n",
       "    </tr>\n",
       "    <tr>\n",
       "      <th>...</th>\n",
       "      <td>...</td>\n",
       "    </tr>\n",
       "    <tr>\n",
       "      <th>2020-03-27</th>\n",
       "      <td>57.469693</td>\n",
       "    </tr>\n",
       "    <tr>\n",
       "      <th>2020-03-28</th>\n",
       "      <td>60.046281</td>\n",
       "    </tr>\n",
       "    <tr>\n",
       "      <th>2020-03-29</th>\n",
       "      <td>58.152992</td>\n",
       "    </tr>\n",
       "    <tr>\n",
       "      <th>2020-03-30</th>\n",
       "      <td>58.367625</td>\n",
       "    </tr>\n",
       "    <tr>\n",
       "      <th>2020-03-31</th>\n",
       "      <td>58.331055</td>\n",
       "    </tr>\n",
       "  </tbody>\n",
       "</table>\n",
       "<p>152 rows × 1 columns</p>\n",
       "</div>"
      ],
      "text/plain": [
       "                   HR\n",
       "date                 \n",
       "2019-11-01  62.386236\n",
       "2019-11-02  59.207012\n",
       "2019-11-03  62.188856\n",
       "2019-11-04  60.898110\n",
       "2019-11-05  56.284816\n",
       "...               ...\n",
       "2020-03-27  57.469693\n",
       "2020-03-28  60.046281\n",
       "2020-03-29  58.152992\n",
       "2020-03-30  58.367625\n",
       "2020-03-31  58.331055\n",
       "\n",
       "[152 rows x 1 columns]"
      ]
     },
     "execution_count": 10,
     "metadata": {},
     "output_type": "execute_result"
    }
   ],
   "source": [
    "# Change HR name from 'value' Show only HR as int\n",
    "heart_rate = heart_rate.rename(columns={'value': 'HR'})\n",
    "heart_rate['HR'] = heart_rate['HR'].astype('str') \n",
    "heart_rate['HR'] = heart_rate['HR'].str[8:10]\n",
    "heart_rate['HR'] = heart_rate['HR'].convert_dtypes()\n",
    "heart_rate['HR'] = pd.to_numeric(heart_rate['HR'], errors='coerce')\n",
    "heart_rate = heart_rate.rename(columns={'dateTime': 'date'})\n",
    "heart_rate['date'] = pd.to_datetime(heart_rate['date']).dt.normalize()\n",
    "hr = heart_rate.groupby('date')['HR'].mean()\n",
    "hr.to_frame()"
   ]
  },
  {
   "cell_type": "code",
   "execution_count": 11,
   "id": "42ebeb09",
   "metadata": {},
   "outputs": [],
   "source": [
    "sleep.drop('levels', inplace=True, axis=1)\n",
    "sleep.insert(0,'date','')\n",
    "sleep['date'] = sleep['dateOfSleep'].str[:10]\n",
    "sleep.drop('dateOfSleep', inplace = True, axis = 1)\n",
    "\n",
    "#timeInBed = minutes in bed (minutesAsleep + minutesAwake)\n"
   ]
  },
  {
   "cell_type": "code",
   "execution_count": 12,
   "id": "2443f2fa",
   "metadata": {},
   "outputs": [],
   "source": [
    "sleep_score.insert(0,'date','')\n",
    "sleep_score['date'] = sleep_score['timestamp'].str[:10]\n",
    "sleep_score.drop('timestamp', inplace = True, axis = 1)"
   ]
  },
  {
   "cell_type": "code",
   "execution_count": 13,
   "id": "6571cfd7",
   "metadata": {},
   "outputs": [],
   "source": [
    "sleep_score_sleep = pd.merge(sleep_score, sleep)\n",
    "sleep_score_sleep = sleep_score_sleep[['date','minutesAsleep','minutesAwake','deep_sleep_in_minutes','timeInBed','restlessness']]"
   ]
  },
  {
   "cell_type": "code",
   "execution_count": 14,
   "id": "927461a3",
   "metadata": {},
   "outputs": [],
   "source": [
    "steps.insert(0,'date','')\n",
    "steps['date'] = steps['dateTime']\n",
    "steps.drop('dateTime', inplace = True, axis = 1)\n",
    "steps['date'] = steps['date'].dt.date\n",
    "steps['stepsToday'] = steps[['date','value']].groupby('date').cumsum()\n",
    "steps.drop('value', inplace=True, axis=1)\n",
    "steps = steps.drop_duplicates(subset=['date'], keep='last')"
   ]
  },
  {
   "cell_type": "code",
   "execution_count": 15,
   "id": "5c6931ee",
   "metadata": {},
   "outputs": [],
   "source": [
    "very_active_minutes = very_active_minutes.rename(columns={'dateTime': 'date'})\n",
    "very_active_minutes = very_active_minutes.rename(columns={'value': 'very active mins'})"
   ]
  },
  {
   "cell_type": "code",
   "execution_count": 16,
   "id": "6d8319c2",
   "metadata": {},
   "outputs": [],
   "source": [
    "sedentary_minutes = sedentary_minutes.rename(columns={'dateTime': 'date'})\n",
    "sedentary_minutes = sedentary_minutes.rename(columns={'value': 'sedentary mins'})"
   ]
  },
  {
   "cell_type": "code",
   "execution_count": 17,
   "id": "e9be09d8",
   "metadata": {},
   "outputs": [],
   "source": [
    "sleep_score_sleep.to_csv('sleep_score_sleep.csv')"
   ]
  },
  {
   "cell_type": "code",
   "execution_count": 18,
   "id": "687fd097",
   "metadata": {},
   "outputs": [],
   "source": [
    "hr.to_csv('hr.csv')"
   ]
  },
  {
   "cell_type": "code",
   "execution_count": 19,
   "id": "bad53a2d",
   "metadata": {},
   "outputs": [],
   "source": [
    "sedentary_minutes.to_csv('sedentary_minutes.csv')"
   ]
  },
  {
   "cell_type": "code",
   "execution_count": 20,
   "id": "9fb2e90b",
   "metadata": {},
   "outputs": [],
   "source": [
    "very_active_minutes.to_csv('very_active_minutes.csv')"
   ]
  },
  {
   "cell_type": "code",
   "execution_count": 21,
   "id": "76397a33",
   "metadata": {},
   "outputs": [],
   "source": [
    "steps.to_csv('steps.csv')"
   ]
  },
  {
   "cell_type": "code",
   "execution_count": null,
   "id": "25239c2a",
   "metadata": {},
   "outputs": [],
   "source": []
  }
 ],
 "metadata": {
  "kernelspec": {
   "display_name": "Python 3",
   "language": "python",
   "name": "python3"
  },
  "language_info": {
   "codemirror_mode": {
    "name": "ipython",
    "version": 3
   },
   "file_extension": ".py",
   "mimetype": "text/x-python",
   "name": "python",
   "nbconvert_exporter": "python",
   "pygments_lexer": "ipython3",
   "version": "3.8.8"
  }
 },
 "nbformat": 4,
 "nbformat_minor": 5
}
