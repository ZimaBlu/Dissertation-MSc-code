{
 "cells": [
  {
   "cell_type": "code",
   "execution_count": 1,
   "id": "cda72e0d",
   "metadata": {},
   "outputs": [],
   "source": [
    "# import libraries\n",
    "import pandas as pd\n",
    "import seaborn as sns\n",
    "#import matplotlib.pyplot as plt\n",
    "#%matplotlib inline\n",
    "# Importing Data file\n",
    "from sklearn.model_selection import train_test_split"
   ]
  },
  {
   "cell_type": "code",
   "execution_count": 2,
   "id": "c577db5f",
   "metadata": {},
   "outputs": [],
   "source": [
    "dataset = pd.read_csv(\"final_df.csv\", index_col=0)"
   ]
  },
  {
   "cell_type": "code",
   "execution_count": 3,
   "id": "eb3618de",
   "metadata": {},
   "outputs": [
    {
     "name": "stdout",
     "output_type": "stream",
     "text": [
      "<class 'pandas.core.frame.DataFrame'>\n",
      "Int64Index: 2015 entries, 1 to 158\n",
      "Data columns (total 11 columns):\n",
      " #   Column                 Non-Null Count  Dtype  \n",
      "---  ------                 --------------  -----  \n",
      " 0   subject                2015 non-null   int64  \n",
      " 1   HR                     2015 non-null   float64\n",
      " 2   sedentary mins         2015 non-null   int64  \n",
      " 3   minutesAsleep          2015 non-null   int64  \n",
      " 4   minutesAwake           2015 non-null   int64  \n",
      " 5   deep_sleep_in_minutes  2015 non-null   int64  \n",
      " 6   timeInBed              2015 non-null   int64  \n",
      " 7   restlessness           2015 non-null   float64\n",
      " 8   stepsToday             2015 non-null   int64  \n",
      " 9   very active mins       2015 non-null   int64  \n",
      " 10  Flare                  2015 non-null   bool   \n",
      "dtypes: bool(1), float64(2), int64(8)\n",
      "memory usage: 175.1 KB\n"
     ]
    }
   ],
   "source": [
    "dataset.info()"
   ]
  },
  {
   "cell_type": "code",
   "execution_count": 4,
   "id": "824b5307",
   "metadata": {},
   "outputs": [
    {
     "data": {
      "text/html": [
       "<div>\n",
       "<style scoped>\n",
       "    .dataframe tbody tr th:only-of-type {\n",
       "        vertical-align: middle;\n",
       "    }\n",
       "\n",
       "    .dataframe tbody tr th {\n",
       "        vertical-align: top;\n",
       "    }\n",
       "\n",
       "    .dataframe thead th {\n",
       "        text-align: right;\n",
       "    }\n",
       "</style>\n",
       "<table border=\"1\" class=\"dataframe\">\n",
       "  <thead>\n",
       "    <tr style=\"text-align: right;\">\n",
       "      <th></th>\n",
       "      <th>count</th>\n",
       "      <th>mean</th>\n",
       "      <th>std</th>\n",
       "      <th>min</th>\n",
       "      <th>25%</th>\n",
       "      <th>50%</th>\n",
       "      <th>75%</th>\n",
       "      <th>max</th>\n",
       "    </tr>\n",
       "  </thead>\n",
       "  <tbody>\n",
       "    <tr>\n",
       "      <th>subject</th>\n",
       "      <td>2015.0</td>\n",
       "      <td>8.020347</td>\n",
       "      <td>4.707753</td>\n",
       "      <td>1.000000</td>\n",
       "      <td>4.000000</td>\n",
       "      <td>7.000000</td>\n",
       "      <td>11.000000</td>\n",
       "      <td>16.000000</td>\n",
       "    </tr>\n",
       "    <tr>\n",
       "      <th>HR</th>\n",
       "      <td>2015.0</td>\n",
       "      <td>61.742266</td>\n",
       "      <td>6.931676</td>\n",
       "      <td>31.656367</td>\n",
       "      <td>57.050363</td>\n",
       "      <td>61.843918</td>\n",
       "      <td>67.074265</td>\n",
       "      <td>83.088809</td>\n",
       "    </tr>\n",
       "    <tr>\n",
       "      <th>sedentary mins</th>\n",
       "      <td>2015.0</td>\n",
       "      <td>672.759305</td>\n",
       "      <td>141.273345</td>\n",
       "      <td>204.000000</td>\n",
       "      <td>582.000000</td>\n",
       "      <td>660.000000</td>\n",
       "      <td>761.500000</td>\n",
       "      <td>1227.000000</td>\n",
       "    </tr>\n",
       "    <tr>\n",
       "      <th>minutesAsleep</th>\n",
       "      <td>2015.0</td>\n",
       "      <td>390.851117</td>\n",
       "      <td>107.571766</td>\n",
       "      <td>39.000000</td>\n",
       "      <td>350.000000</td>\n",
       "      <td>402.000000</td>\n",
       "      <td>454.000000</td>\n",
       "      <td>823.000000</td>\n",
       "    </tr>\n",
       "    <tr>\n",
       "      <th>minutesAwake</th>\n",
       "      <td>2015.0</td>\n",
       "      <td>57.338462</td>\n",
       "      <td>24.556111</td>\n",
       "      <td>0.000000</td>\n",
       "      <td>43.000000</td>\n",
       "      <td>56.000000</td>\n",
       "      <td>71.000000</td>\n",
       "      <td>170.000000</td>\n",
       "    </tr>\n",
       "    <tr>\n",
       "      <th>deep_sleep_in_minutes</th>\n",
       "      <td>2015.0</td>\n",
       "      <td>72.904715</td>\n",
       "      <td>28.033617</td>\n",
       "      <td>0.000000</td>\n",
       "      <td>54.000000</td>\n",
       "      <td>72.000000</td>\n",
       "      <td>91.000000</td>\n",
       "      <td>183.000000</td>\n",
       "    </tr>\n",
       "    <tr>\n",
       "      <th>timeInBed</th>\n",
       "      <td>2015.0</td>\n",
       "      <td>448.489826</td>\n",
       "      <td>126.037225</td>\n",
       "      <td>60.000000</td>\n",
       "      <td>399.000000</td>\n",
       "      <td>463.000000</td>\n",
       "      <td>520.000000</td>\n",
       "      <td>953.000000</td>\n",
       "    </tr>\n",
       "    <tr>\n",
       "      <th>restlessness</th>\n",
       "      <td>2015.0</td>\n",
       "      <td>0.091093</td>\n",
       "      <td>0.037817</td>\n",
       "      <td>0.015385</td>\n",
       "      <td>0.062650</td>\n",
       "      <td>0.084960</td>\n",
       "      <td>0.110478</td>\n",
       "      <td>0.294766</td>\n",
       "    </tr>\n",
       "    <tr>\n",
       "      <th>stepsToday</th>\n",
       "      <td>2015.0</td>\n",
       "      <td>11623.849132</td>\n",
       "      <td>6343.438655</td>\n",
       "      <td>0.000000</td>\n",
       "      <td>7202.000000</td>\n",
       "      <td>11532.000000</td>\n",
       "      <td>16058.500000</td>\n",
       "      <td>39835.000000</td>\n",
       "    </tr>\n",
       "    <tr>\n",
       "      <th>very active mins</th>\n",
       "      <td>2015.0</td>\n",
       "      <td>48.577667</td>\n",
       "      <td>47.138872</td>\n",
       "      <td>0.000000</td>\n",
       "      <td>10.000000</td>\n",
       "      <td>38.000000</td>\n",
       "      <td>73.500000</td>\n",
       "      <td>336.000000</td>\n",
       "    </tr>\n",
       "  </tbody>\n",
       "</table>\n",
       "</div>"
      ],
      "text/plain": [
       "                        count          mean          std         min  \\\n",
       "subject                2015.0      8.020347     4.707753    1.000000   \n",
       "HR                     2015.0     61.742266     6.931676   31.656367   \n",
       "sedentary mins         2015.0    672.759305   141.273345  204.000000   \n",
       "minutesAsleep          2015.0    390.851117   107.571766   39.000000   \n",
       "minutesAwake           2015.0     57.338462    24.556111    0.000000   \n",
       "deep_sleep_in_minutes  2015.0     72.904715    28.033617    0.000000   \n",
       "timeInBed              2015.0    448.489826   126.037225   60.000000   \n",
       "restlessness           2015.0      0.091093     0.037817    0.015385   \n",
       "stepsToday             2015.0  11623.849132  6343.438655    0.000000   \n",
       "very active mins       2015.0     48.577667    47.138872    0.000000   \n",
       "\n",
       "                               25%           50%           75%           max  \n",
       "subject                   4.000000      7.000000     11.000000     16.000000  \n",
       "HR                       57.050363     61.843918     67.074265     83.088809  \n",
       "sedentary mins          582.000000    660.000000    761.500000   1227.000000  \n",
       "minutesAsleep           350.000000    402.000000    454.000000    823.000000  \n",
       "minutesAwake             43.000000     56.000000     71.000000    170.000000  \n",
       "deep_sleep_in_minutes    54.000000     72.000000     91.000000    183.000000  \n",
       "timeInBed               399.000000    463.000000    520.000000    953.000000  \n",
       "restlessness              0.062650      0.084960      0.110478      0.294766  \n",
       "stepsToday             7202.000000  11532.000000  16058.500000  39835.000000  \n",
       "very active mins         10.000000     38.000000     73.500000    336.000000  "
      ]
     },
     "execution_count": 4,
     "metadata": {},
     "output_type": "execute_result"
    }
   ],
   "source": [
    "dataset.describe().transpose()"
   ]
  },
  {
   "cell_type": "code",
   "execution_count": 5,
   "id": "6e8fa439",
   "metadata": {},
   "outputs": [
    {
     "name": "stdout",
     "output_type": "stream",
     "text": [
      "0.5794701986754967\n",
      "0.5520907158043941\n"
     ]
    }
   ],
   "source": [
    "# To calculate the accuracy score of the model\n",
    "from sklearn.metrics import accuracy_score, confusion_matrix, classification_report\n",
    "\n",
    "target = dataset['Flare'] \n",
    "features = dataset.drop([\"Flare\"], axis=1)\n",
    "X_train, X_test, y_train, y_test = train_test_split(features,target, test_size = 0.7, random_state = 10)\n",
    "\n",
    "from sklearn.svm import SVC\n",
    "  \n",
    "# Building a Support Vector Machine on train data\n",
    "svc_model = SVC(C= .1, kernel='linear', gamma= 1)\n",
    "svc_model.fit(X_train, y_train)\n",
    "  \n",
    "prediction = svc_model.predict(X_test)\n",
    "# check the accuracy on the training set\n",
    "print(svc_model.score(X_train, y_train))\n",
    "print(svc_model.score(X_test, y_test))"
   ]
  },
  {
   "cell_type": "code",
   "execution_count": 6,
   "id": "c5103e81",
   "metadata": {},
   "outputs": [
    {
     "name": "stdout",
     "output_type": "stream",
     "text": [
      "Confusion Matrix:\n",
      " [[ 40 598]\n",
      " [ 34 739]]\n"
     ]
    }
   ],
   "source": [
    "print(\"Confusion Matrix:\\n\",confusion_matrix(y_test, prediction))"
   ]
  },
  {
   "cell_type": "code",
   "execution_count": 7,
   "id": "09cfc7ee",
   "metadata": {},
   "outputs": [
    {
     "name": "stdout",
     "output_type": "stream",
     "text": [
      "              precision    recall  f1-score   support\n",
      "\n",
      "       False       0.54      0.06      0.11       638\n",
      "        True       0.55      0.96      0.70       773\n",
      "\n",
      "    accuracy                           0.55      1411\n",
      "   macro avg       0.55      0.51      0.41      1411\n",
      "weighted avg       0.55      0.55      0.43      1411\n",
      "\n"
     ]
    }
   ],
   "source": [
    "print(classification_report(y_test, prediction))"
   ]
  },
  {
   "cell_type": "code",
   "execution_count": 8,
   "id": "de33a35d",
   "metadata": {},
   "outputs": [
    {
     "name": "stdout",
     "output_type": "stream",
     "text": [
      "0.5794701986754967\n",
      "0.5478384124734231\n"
     ]
    }
   ],
   "source": [
    "# Building a Support Vector Machine on train data\n",
    "svc_model = SVC(kernel='rbf')\n",
    "svc_model.fit(X_train, y_train)\n",
    "print(svc_model.score(X_train, y_train))\n",
    "print(svc_model.score(X_test, y_test))"
   ]
  },
  {
   "cell_type": "code",
   "execution_count": 9,
   "id": "ad263442",
   "metadata": {},
   "outputs": [
    {
     "name": "stdout",
     "output_type": "stream",
     "text": [
      "Confusion Matrix:\n",
      " [[ 40 598]\n",
      " [ 34 739]]\n"
     ]
    }
   ],
   "source": [
    "print(\"Confusion Matrix:\\n\",confusion_matrix(y_test, prediction))"
   ]
  },
  {
   "cell_type": "code",
   "execution_count": 10,
   "id": "0e1d305f",
   "metadata": {},
   "outputs": [
    {
     "name": "stdout",
     "output_type": "stream",
     "text": [
      "              precision    recall  f1-score   support\n",
      "\n",
      "       False       0.54      0.06      0.11       638\n",
      "        True       0.55      0.96      0.70       773\n",
      "\n",
      "    accuracy                           0.55      1411\n",
      "   macro avg       0.55      0.51      0.41      1411\n",
      "weighted avg       0.55      0.55      0.43      1411\n",
      "\n"
     ]
    }
   ],
   "source": [
    "print(classification_report(y_test, prediction))"
   ]
  },
  {
   "cell_type": "code",
   "execution_count": 11,
   "id": "4e27e3e8",
   "metadata": {},
   "outputs": [
    {
     "name": "stdout",
     "output_type": "stream",
     "text": [
      "0.5794701986754967\n",
      "0.5478384124734231\n"
     ]
    }
   ],
   "source": [
    "#Building a Support Vector Machine on train data(changing the kernel)\n",
    "svc_model = SVC(kernel='poly')\n",
    "svc_model.fit(X_train, y_train)\n",
    "\n",
    "prediction = svc_model.predict(X_test)\n",
    "\n",
    "print(svc_model.score(X_train, y_train))\n",
    "print(svc_model.score(X_test, y_test))"
   ]
  },
  {
   "cell_type": "code",
   "execution_count": 12,
   "id": "693aa7b7",
   "metadata": {},
   "outputs": [
    {
     "name": "stdout",
     "output_type": "stream",
     "text": [
      "Confusion Matrix:\n",
      " [[  0 638]\n",
      " [  0 773]]\n"
     ]
    }
   ],
   "source": [
    "print(\"Confusion Matrix:\\n\",confusion_matrix(y_test, prediction))"
   ]
  },
  {
   "cell_type": "code",
   "execution_count": 13,
   "id": "0b8a0822",
   "metadata": {},
   "outputs": [
    {
     "name": "stdout",
     "output_type": "stream",
     "text": [
      "              precision    recall  f1-score   support\n",
      "\n",
      "       False       0.00      0.00      0.00       638\n",
      "        True       0.55      1.00      0.71       773\n",
      "\n",
      "    accuracy                           0.55      1411\n",
      "   macro avg       0.27      0.50      0.35      1411\n",
      "weighted avg       0.30      0.55      0.39      1411\n",
      "\n"
     ]
    },
    {
     "name": "stderr",
     "output_type": "stream",
     "text": [
      "C:\\Users\\bensk\\anaconda3\\lib\\site-packages\\sklearn\\metrics\\_classification.py:1245: UndefinedMetricWarning: Precision and F-score are ill-defined and being set to 0.0 in labels with no predicted samples. Use `zero_division` parameter to control this behavior.\n",
      "  _warn_prf(average, modifier, msg_start, len(result))\n",
      "C:\\Users\\bensk\\anaconda3\\lib\\site-packages\\sklearn\\metrics\\_classification.py:1245: UndefinedMetricWarning: Precision and F-score are ill-defined and being set to 0.0 in labels with no predicted samples. Use `zero_division` parameter to control this behavior.\n",
      "  _warn_prf(average, modifier, msg_start, len(result))\n",
      "C:\\Users\\bensk\\anaconda3\\lib\\site-packages\\sklearn\\metrics\\_classification.py:1245: UndefinedMetricWarning: Precision and F-score are ill-defined and being set to 0.0 in labels with no predicted samples. Use `zero_division` parameter to control this behavior.\n",
      "  _warn_prf(average, modifier, msg_start, len(result))\n"
     ]
    }
   ],
   "source": [
    "print(classification_report(y_test, prediction))"
   ]
  },
  {
   "cell_type": "code",
   "execution_count": 14,
   "id": "c849341b",
   "metadata": {},
   "outputs": [
    {
     "name": "stdout",
     "output_type": "stream",
     "text": [
      "0.5049668874172185\n",
      "0.5017717930545712\n"
     ]
    }
   ],
   "source": [
    "#Building a Support Vector Machine on train data(changing the kernel)\n",
    "svc_model = SVC(kernel='sigmoid')\n",
    "svc_model.fit(X_train, y_train)\n",
    "\n",
    "prediction = svc_model.predict(X_test)\n",
    "\n",
    "print(svc_model.score(X_train, y_train))\n",
    "print(svc_model.score(X_test, y_test))"
   ]
  },
  {
   "cell_type": "code",
   "execution_count": 15,
   "id": "aa041abb",
   "metadata": {},
   "outputs": [
    {
     "name": "stdout",
     "output_type": "stream",
     "text": [
      "Confusion Matrix:\n",
      " [[271 367]\n",
      " [336 437]]\n"
     ]
    }
   ],
   "source": [
    "print(\"Confusion Matrix:\\n\",confusion_matrix(y_test, prediction))"
   ]
  },
  {
   "cell_type": "code",
   "execution_count": 16,
   "id": "a1a92e42",
   "metadata": {},
   "outputs": [
    {
     "name": "stdout",
     "output_type": "stream",
     "text": [
      "              precision    recall  f1-score   support\n",
      "\n",
      "       False       0.45      0.42      0.44       638\n",
      "        True       0.54      0.57      0.55       773\n",
      "\n",
      "    accuracy                           0.50      1411\n",
      "   macro avg       0.49      0.50      0.49      1411\n",
      "weighted avg       0.50      0.50      0.50      1411\n",
      "\n"
     ]
    }
   ],
   "source": [
    "print(classification_report(y_test, prediction))"
   ]
  },
  {
   "cell_type": "code",
   "execution_count": null,
   "id": "cf93f2a8",
   "metadata": {},
   "outputs": [],
   "source": []
  },
  {
   "cell_type": "code",
   "execution_count": null,
   "id": "082381f3",
   "metadata": {},
   "outputs": [],
   "source": []
  },
  {
   "cell_type": "code",
   "execution_count": null,
   "id": "515135a5",
   "metadata": {},
   "outputs": [],
   "source": []
  }
 ],
 "metadata": {
  "kernelspec": {
   "display_name": "Python 3",
   "language": "python",
   "name": "python3"
  },
  "language_info": {
   "codemirror_mode": {
    "name": "ipython",
    "version": 3
   },
   "file_extension": ".py",
   "mimetype": "text/x-python",
   "name": "python",
   "nbconvert_exporter": "python",
   "pygments_lexer": "ipython3",
   "version": "3.8.8"
  }
 },
 "nbformat": 4,
 "nbformat_minor": 5
}
