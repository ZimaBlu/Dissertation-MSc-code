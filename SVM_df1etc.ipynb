{
 "cells": [
  {
   "cell_type": "code",
   "execution_count": 18,
   "id": "cda72e0d",
   "metadata": {},
   "outputs": [],
   "source": [
    "# import libraries\n",
    "import pandas as pd\n",
    "import seaborn as sns\n",
    "import matplotlib.pyplot as plt\n",
    "%matplotlib inline\n",
    "# Importing Data file\n"
   ]
  },
  {
   "cell_type": "code",
   "execution_count": 19,
   "id": "c577db5f",
   "metadata": {},
   "outputs": [
    {
     "data": {
      "text/html": [
       "<div>\n",
       "<style scoped>\n",
       "    .dataframe tbody tr th:only-of-type {\n",
       "        vertical-align: middle;\n",
       "    }\n",
       "\n",
       "    .dataframe tbody tr th {\n",
       "        vertical-align: top;\n",
       "    }\n",
       "\n",
       "    .dataframe thead th {\n",
       "        text-align: right;\n",
       "    }\n",
       "</style>\n",
       "<table border=\"1\" class=\"dataframe\">\n",
       "  <thead>\n",
       "    <tr style=\"text-align: right;\">\n",
       "      <th></th>\n",
       "      <th>subject</th>\n",
       "      <th>HR</th>\n",
       "      <th>sedentary mins</th>\n",
       "      <th>minutesAsleep</th>\n",
       "      <th>minutesAwake</th>\n",
       "      <th>deep_sleep_in_minutes</th>\n",
       "      <th>timeInBed</th>\n",
       "      <th>restlessness</th>\n",
       "      <th>stepsToday</th>\n",
       "      <th>very active mins</th>\n",
       "      <th>Flare</th>\n",
       "    </tr>\n",
       "  </thead>\n",
       "  <tbody>\n",
       "    <tr>\n",
       "      <th>1</th>\n",
       "      <td>1</td>\n",
       "      <td>59.207012</td>\n",
       "      <td>709</td>\n",
       "      <td>378</td>\n",
       "      <td>52</td>\n",
       "      <td>36</td>\n",
       "      <td>430</td>\n",
       "      <td>0.078978</td>\n",
       "      <td>13118</td>\n",
       "      <td>56</td>\n",
       "      <td>False</td>\n",
       "    </tr>\n",
       "    <tr>\n",
       "      <th>2</th>\n",
       "      <td>1</td>\n",
       "      <td>62.188856</td>\n",
       "      <td>648</td>\n",
       "      <td>378</td>\n",
       "      <td>44</td>\n",
       "      <td>38</td>\n",
       "      <td>422</td>\n",
       "      <td>0.093491</td>\n",
       "      <td>14312</td>\n",
       "      <td>45</td>\n",
       "      <td>False</td>\n",
       "    </tr>\n",
       "    <tr>\n",
       "      <th>3</th>\n",
       "      <td>1</td>\n",
       "      <td>60.898110</td>\n",
       "      <td>760</td>\n",
       "      <td>361</td>\n",
       "      <td>38</td>\n",
       "      <td>37</td>\n",
       "      <td>399</td>\n",
       "      <td>0.064851</td>\n",
       "      <td>10970</td>\n",
       "      <td>28</td>\n",
       "      <td>False</td>\n",
       "    </tr>\n",
       "    <tr>\n",
       "      <th>4</th>\n",
       "      <td>1</td>\n",
       "      <td>56.284816</td>\n",
       "      <td>737</td>\n",
       "      <td>326</td>\n",
       "      <td>36</td>\n",
       "      <td>26</td>\n",
       "      <td>362</td>\n",
       "      <td>0.093185</td>\n",
       "      <td>16186</td>\n",
       "      <td>56</td>\n",
       "      <td>True</td>\n",
       "    </tr>\n",
       "    <tr>\n",
       "      <th>5</th>\n",
       "      <td>1</td>\n",
       "      <td>62.240648</td>\n",
       "      <td>849</td>\n",
       "      <td>341</td>\n",
       "      <td>23</td>\n",
       "      <td>65</td>\n",
       "      <td>364</td>\n",
       "      <td>0.064472</td>\n",
       "      <td>8189</td>\n",
       "      <td>11</td>\n",
       "      <td>False</td>\n",
       "    </tr>\n",
       "    <tr>\n",
       "      <th>...</th>\n",
       "      <td>...</td>\n",
       "      <td>...</td>\n",
       "      <td>...</td>\n",
       "      <td>...</td>\n",
       "      <td>...</td>\n",
       "      <td>...</td>\n",
       "      <td>...</td>\n",
       "      <td>...</td>\n",
       "      <td>...</td>\n",
       "      <td>...</td>\n",
       "      <td>...</td>\n",
       "    </tr>\n",
       "    <tr>\n",
       "      <th>151</th>\n",
       "      <td>1</td>\n",
       "      <td>57.769808</td>\n",
       "      <td>771</td>\n",
       "      <td>415</td>\n",
       "      <td>44</td>\n",
       "      <td>54</td>\n",
       "      <td>459</td>\n",
       "      <td>0.058306</td>\n",
       "      <td>7357</td>\n",
       "      <td>42</td>\n",
       "      <td>False</td>\n",
       "    </tr>\n",
       "    <tr>\n",
       "      <th>152</th>\n",
       "      <td>1</td>\n",
       "      <td>57.469693</td>\n",
       "      <td>821</td>\n",
       "      <td>307</td>\n",
       "      <td>38</td>\n",
       "      <td>59</td>\n",
       "      <td>345</td>\n",
       "      <td>0.096961</td>\n",
       "      <td>11532</td>\n",
       "      <td>65</td>\n",
       "      <td>False</td>\n",
       "    </tr>\n",
       "    <tr>\n",
       "      <th>153</th>\n",
       "      <td>1</td>\n",
       "      <td>60.046281</td>\n",
       "      <td>679</td>\n",
       "      <td>354</td>\n",
       "      <td>48</td>\n",
       "      <td>5</td>\n",
       "      <td>402</td>\n",
       "      <td>0.087126</td>\n",
       "      <td>16448</td>\n",
       "      <td>83</td>\n",
       "      <td>False</td>\n",
       "    </tr>\n",
       "    <tr>\n",
       "      <th>154</th>\n",
       "      <td>1</td>\n",
       "      <td>58.152992</td>\n",
       "      <td>840</td>\n",
       "      <td>349</td>\n",
       "      <td>65</td>\n",
       "      <td>55</td>\n",
       "      <td>474</td>\n",
       "      <td>0.056962</td>\n",
       "      <td>6698</td>\n",
       "      <td>22</td>\n",
       "      <td>False</td>\n",
       "    </tr>\n",
       "    <tr>\n",
       "      <th>155</th>\n",
       "      <td>1</td>\n",
       "      <td>58.367625</td>\n",
       "      <td>842</td>\n",
       "      <td>386</td>\n",
       "      <td>37</td>\n",
       "      <td>34</td>\n",
       "      <td>423</td>\n",
       "      <td>0.136473</td>\n",
       "      <td>4761</td>\n",
       "      <td>8</td>\n",
       "      <td>False</td>\n",
       "    </tr>\n",
       "  </tbody>\n",
       "</table>\n",
       "<p>154 rows × 11 columns</p>\n",
       "</div>"
      ],
      "text/plain": [
       "     subject         HR  sedentary mins  minutesAsleep  minutesAwake  \\\n",
       "1          1  59.207012             709            378            52   \n",
       "2          1  62.188856             648            378            44   \n",
       "3          1  60.898110             760            361            38   \n",
       "4          1  56.284816             737            326            36   \n",
       "5          1  62.240648             849            341            23   \n",
       "..       ...        ...             ...            ...           ...   \n",
       "151        1  57.769808             771            415            44   \n",
       "152        1  57.469693             821            307            38   \n",
       "153        1  60.046281             679            354            48   \n",
       "154        1  58.152992             840            349            65   \n",
       "155        1  58.367625             842            386            37   \n",
       "\n",
       "     deep_sleep_in_minutes  timeInBed  restlessness  stepsToday  \\\n",
       "1                       36        430      0.078978       13118   \n",
       "2                       38        422      0.093491       14312   \n",
       "3                       37        399      0.064851       10970   \n",
       "4                       26        362      0.093185       16186   \n",
       "5                       65        364      0.064472        8189   \n",
       "..                     ...        ...           ...         ...   \n",
       "151                     54        459      0.058306        7357   \n",
       "152                     59        345      0.096961       11532   \n",
       "153                      5        402      0.087126       16448   \n",
       "154                     55        474      0.056962        6698   \n",
       "155                     34        423      0.136473        4761   \n",
       "\n",
       "     very active mins  Flare  \n",
       "1                  56  False  \n",
       "2                  45  False  \n",
       "3                  28  False  \n",
       "4                  56   True  \n",
       "5                  11  False  \n",
       "..                ...    ...  \n",
       "151                42  False  \n",
       "152                65  False  \n",
       "153                83  False  \n",
       "154                22  False  \n",
       "155                 8  False  \n",
       "\n",
       "[154 rows x 11 columns]"
      ]
     },
     "execution_count": 19,
     "metadata": {},
     "output_type": "execute_result"
    }
   ],
   "source": [
    "data = pd.read_csv(\"df1.csv\", index_col=0)\n",
    "data"
   ]
  },
  {
   "cell_type": "code",
   "execution_count": 20,
   "id": "292ec80e",
   "metadata": {},
   "outputs": [
    {
     "data": {
      "text/plain": [
       "Index(['subject', 'HR', 'sedentary mins', 'minutesAsleep', 'minutesAwake',\n",
       "       'deep_sleep_in_minutes', 'timeInBed', 'restlessness', 'stepsToday',\n",
       "       'very active mins', 'Flare'],\n",
       "      dtype='object')"
      ]
     },
     "execution_count": 20,
     "metadata": {},
     "output_type": "execute_result"
    }
   ],
   "source": [
    "dataset = pd.DataFrame(data)\n",
    "dataset.columns"
   ]
  },
  {
   "cell_type": "code",
   "execution_count": 21,
   "id": "eb3618de",
   "metadata": {},
   "outputs": [
    {
     "name": "stdout",
     "output_type": "stream",
     "text": [
      "<class 'pandas.core.frame.DataFrame'>\n",
      "Int64Index: 154 entries, 1 to 155\n",
      "Data columns (total 11 columns):\n",
      " #   Column                 Non-Null Count  Dtype  \n",
      "---  ------                 --------------  -----  \n",
      " 0   subject                154 non-null    int64  \n",
      " 1   HR                     154 non-null    float64\n",
      " 2   sedentary mins         154 non-null    int64  \n",
      " 3   minutesAsleep          154 non-null    int64  \n",
      " 4   minutesAwake           154 non-null    int64  \n",
      " 5   deep_sleep_in_minutes  154 non-null    int64  \n",
      " 6   timeInBed              154 non-null    int64  \n",
      " 7   restlessness           154 non-null    float64\n",
      " 8   stepsToday             154 non-null    int64  \n",
      " 9   very active mins       154 non-null    int64  \n",
      " 10  Flare                  154 non-null    bool   \n",
      "dtypes: bool(1), float64(2), int64(8)\n",
      "memory usage: 13.4 KB\n"
     ]
    }
   ],
   "source": [
    "dataset.info()"
   ]
  },
  {
   "cell_type": "code",
   "execution_count": 22,
   "id": "824b5307",
   "metadata": {},
   "outputs": [
    {
     "data": {
      "text/html": [
       "<div>\n",
       "<style scoped>\n",
       "    .dataframe tbody tr th:only-of-type {\n",
       "        vertical-align: middle;\n",
       "    }\n",
       "\n",
       "    .dataframe tbody tr th {\n",
       "        vertical-align: top;\n",
       "    }\n",
       "\n",
       "    .dataframe thead th {\n",
       "        text-align: right;\n",
       "    }\n",
       "</style>\n",
       "<table border=\"1\" class=\"dataframe\">\n",
       "  <thead>\n",
       "    <tr style=\"text-align: right;\">\n",
       "      <th></th>\n",
       "      <th>count</th>\n",
       "      <th>mean</th>\n",
       "      <th>std</th>\n",
       "      <th>min</th>\n",
       "      <th>25%</th>\n",
       "      <th>50%</th>\n",
       "      <th>75%</th>\n",
       "      <th>max</th>\n",
       "    </tr>\n",
       "  </thead>\n",
       "  <tbody>\n",
       "    <tr>\n",
       "      <th>subject</th>\n",
       "      <td>154.0</td>\n",
       "      <td>1.000000</td>\n",
       "      <td>0.000000</td>\n",
       "      <td>1.000000</td>\n",
       "      <td>1.000000</td>\n",
       "      <td>1.000000</td>\n",
       "      <td>1.000000</td>\n",
       "      <td>1.000000</td>\n",
       "    </tr>\n",
       "    <tr>\n",
       "      <th>HR</th>\n",
       "      <td>154.0</td>\n",
       "      <td>59.377883</td>\n",
       "      <td>2.374255</td>\n",
       "      <td>54.225121</td>\n",
       "      <td>57.845638</td>\n",
       "      <td>59.133633</td>\n",
       "      <td>60.895584</td>\n",
       "      <td>66.854347</td>\n",
       "    </tr>\n",
       "    <tr>\n",
       "      <th>sedentary mins</th>\n",
       "      <td>154.0</td>\n",
       "      <td>716.149351</td>\n",
       "      <td>106.469535</td>\n",
       "      <td>420.000000</td>\n",
       "      <td>647.250000</td>\n",
       "      <td>729.000000</td>\n",
       "      <td>797.000000</td>\n",
       "      <td>947.000000</td>\n",
       "    </tr>\n",
       "    <tr>\n",
       "      <th>minutesAsleep</th>\n",
       "      <td>154.0</td>\n",
       "      <td>354.792208</td>\n",
       "      <td>47.958952</td>\n",
       "      <td>190.000000</td>\n",
       "      <td>325.250000</td>\n",
       "      <td>349.000000</td>\n",
       "      <td>382.000000</td>\n",
       "      <td>510.000000</td>\n",
       "    </tr>\n",
       "    <tr>\n",
       "      <th>minutesAwake</th>\n",
       "      <td>154.0</td>\n",
       "      <td>43.487013</td>\n",
       "      <td>9.317379</td>\n",
       "      <td>23.000000</td>\n",
       "      <td>38.000000</td>\n",
       "      <td>42.000000</td>\n",
       "      <td>50.000000</td>\n",
       "      <td>69.000000</td>\n",
       "    </tr>\n",
       "    <tr>\n",
       "      <th>deep_sleep_in_minutes</th>\n",
       "      <td>154.0</td>\n",
       "      <td>39.194805</td>\n",
       "      <td>17.649854</td>\n",
       "      <td>0.000000</td>\n",
       "      <td>28.000000</td>\n",
       "      <td>38.000000</td>\n",
       "      <td>51.500000</td>\n",
       "      <td>93.000000</td>\n",
       "    </tr>\n",
       "    <tr>\n",
       "      <th>timeInBed</th>\n",
       "      <td>154.0</td>\n",
       "      <td>398.668831</td>\n",
       "      <td>52.740833</td>\n",
       "      <td>213.000000</td>\n",
       "      <td>364.000000</td>\n",
       "      <td>392.500000</td>\n",
       "      <td>427.750000</td>\n",
       "      <td>560.000000</td>\n",
       "    </tr>\n",
       "    <tr>\n",
       "      <th>restlessness</th>\n",
       "      <td>154.0</td>\n",
       "      <td>0.087275</td>\n",
       "      <td>0.030111</td>\n",
       "      <td>0.039437</td>\n",
       "      <td>0.065727</td>\n",
       "      <td>0.081330</td>\n",
       "      <td>0.101530</td>\n",
       "      <td>0.199021</td>\n",
       "    </tr>\n",
       "    <tr>\n",
       "      <th>stepsToday</th>\n",
       "      <td>154.0</td>\n",
       "      <td>12640.870130</td>\n",
       "      <td>4062.976125</td>\n",
       "      <td>4749.000000</td>\n",
       "      <td>9981.750000</td>\n",
       "      <td>12229.000000</td>\n",
       "      <td>15337.250000</td>\n",
       "      <td>24846.000000</td>\n",
       "    </tr>\n",
       "    <tr>\n",
       "      <th>very active mins</th>\n",
       "      <td>154.0</td>\n",
       "      <td>48.642857</td>\n",
       "      <td>32.048713</td>\n",
       "      <td>0.000000</td>\n",
       "      <td>24.250000</td>\n",
       "      <td>40.500000</td>\n",
       "      <td>69.250000</td>\n",
       "      <td>178.000000</td>\n",
       "    </tr>\n",
       "  </tbody>\n",
       "</table>\n",
       "</div>"
      ],
      "text/plain": [
       "                       count          mean          std          min  \\\n",
       "subject                154.0      1.000000     0.000000     1.000000   \n",
       "HR                     154.0     59.377883     2.374255    54.225121   \n",
       "sedentary mins         154.0    716.149351   106.469535   420.000000   \n",
       "minutesAsleep          154.0    354.792208    47.958952   190.000000   \n",
       "minutesAwake           154.0     43.487013     9.317379    23.000000   \n",
       "deep_sleep_in_minutes  154.0     39.194805    17.649854     0.000000   \n",
       "timeInBed              154.0    398.668831    52.740833   213.000000   \n",
       "restlessness           154.0      0.087275     0.030111     0.039437   \n",
       "stepsToday             154.0  12640.870130  4062.976125  4749.000000   \n",
       "very active mins       154.0     48.642857    32.048713     0.000000   \n",
       "\n",
       "                               25%           50%           75%           max  \n",
       "subject                   1.000000      1.000000      1.000000      1.000000  \n",
       "HR                       57.845638     59.133633     60.895584     66.854347  \n",
       "sedentary mins          647.250000    729.000000    797.000000    947.000000  \n",
       "minutesAsleep           325.250000    349.000000    382.000000    510.000000  \n",
       "minutesAwake             38.000000     42.000000     50.000000     69.000000  \n",
       "deep_sleep_in_minutes    28.000000     38.000000     51.500000     93.000000  \n",
       "timeInBed               364.000000    392.500000    427.750000    560.000000  \n",
       "restlessness              0.065727      0.081330      0.101530      0.199021  \n",
       "stepsToday             9981.750000  12229.000000  15337.250000  24846.000000  \n",
       "very active mins         24.250000     40.500000     69.250000    178.000000  "
      ]
     },
     "execution_count": 22,
     "metadata": {},
     "output_type": "execute_result"
    }
   ],
   "source": [
    "dataset.describe().transpose()"
   ]
  },
  {
   "cell_type": "code",
   "execution_count": 23,
   "id": "6e8fa439",
   "metadata": {},
   "outputs": [
    {
     "name": "stdout",
     "output_type": "stream",
     "text": [
      "0.5447154471544715\n",
      "0.5483870967741935\n"
     ]
    }
   ],
   "source": [
    "from sklearn.model_selection import train_test_split\n",
    "  \n",
    "# To calculate the accuracy score of the model\n",
    "from sklearn.metrics import accuracy_score, confusion_matrix, classification_report\n",
    "\n",
    "target = dataset['Flare'] \n",
    "features = dataset.drop([\"Flare\"], axis=1)\n",
    "X_train, X_test, y_train, y_test = train_test_split(features,target, test_size = 0.2, random_state = 10)\n",
    "\n",
    "from sklearn.svm import SVC\n",
    "  \n",
    "# Building a Support Vector Machine on train data\n",
    "svc_model = SVC(C= .1, kernel='linear', gamma= 1)\n",
    "svc_model.fit(X_train, y_train)\n",
    "  \n",
    "prediction = svc_model .predict(X_test)\n",
    "# check the accuracy on the training set\n",
    "print(svc_model.score(X_train, y_train))\n",
    "print(svc_model.score(X_test, y_test))"
   ]
  },
  {
   "cell_type": "code",
   "execution_count": 24,
   "id": "c5103e81",
   "metadata": {},
   "outputs": [
    {
     "name": "stdout",
     "output_type": "stream",
     "text": [
      "Confusion Matrix:\n",
      " [[11 12]\n",
      " [ 2  6]]\n"
     ]
    }
   ],
   "source": [
    "print(\"Confusion Matrix:\\n\",confusion_matrix(y_test, prediction))"
   ]
  },
  {
   "cell_type": "code",
   "execution_count": 25,
   "id": "09cfc7ee",
   "metadata": {},
   "outputs": [
    {
     "name": "stdout",
     "output_type": "stream",
     "text": [
      "              precision    recall  f1-score   support\n",
      "\n",
      "       False       0.85      0.48      0.61        23\n",
      "        True       0.33      0.75      0.46         8\n",
      "\n",
      "    accuracy                           0.55        31\n",
      "   macro avg       0.59      0.61      0.54        31\n",
      "weighted avg       0.71      0.55      0.57        31\n",
      "\n"
     ]
    }
   ],
   "source": [
    "print(classification_report(y_test, prediction))"
   ]
  },
  {
   "cell_type": "code",
   "execution_count": 26,
   "id": "de33a35d",
   "metadata": {},
   "outputs": [
    {
     "name": "stdout",
     "output_type": "stream",
     "text": [
      "0.5609756097560976\n",
      "0.7419354838709677\n"
     ]
    }
   ],
   "source": [
    "# Building a Support Vector Machine on train data\n",
    "svc_model = SVC(kernel='rbf')\n",
    "svc_model.fit(X_train, y_train)\n",
    "print(svc_model.score(X_train, y_train))\n",
    "print(svc_model.score(X_test, y_test))"
   ]
  },
  {
   "cell_type": "code",
   "execution_count": 27,
   "id": "ad263442",
   "metadata": {},
   "outputs": [
    {
     "name": "stdout",
     "output_type": "stream",
     "text": [
      "Confusion Matrix:\n",
      " [[11 12]\n",
      " [ 2  6]]\n"
     ]
    }
   ],
   "source": [
    "print(\"Confusion Matrix:\\n\",confusion_matrix(y_test, prediction))"
   ]
  },
  {
   "cell_type": "code",
   "execution_count": 28,
   "id": "0e1d305f",
   "metadata": {},
   "outputs": [
    {
     "name": "stdout",
     "output_type": "stream",
     "text": [
      "              precision    recall  f1-score   support\n",
      "\n",
      "       False       0.85      0.48      0.61        23\n",
      "        True       0.33      0.75      0.46         8\n",
      "\n",
      "    accuracy                           0.55        31\n",
      "   macro avg       0.59      0.61      0.54        31\n",
      "weighted avg       0.71      0.55      0.57        31\n",
      "\n"
     ]
    }
   ],
   "source": [
    "print(classification_report(y_test, prediction))"
   ]
  },
  {
   "cell_type": "code",
   "execution_count": 29,
   "id": "4e27e3e8",
   "metadata": {},
   "outputs": [
    {
     "name": "stdout",
     "output_type": "stream",
     "text": [
      "0.5609756097560976\n",
      "0.7419354838709677\n"
     ]
    }
   ],
   "source": [
    "#Building a Support Vector Machine on train data(changing the kernel)\n",
    "svc_model = SVC(kernel='poly')\n",
    "svc_model.fit(X_train, y_train)\n",
    "\n",
    "prediction = svc_model.predict(X_test)\n",
    "\n",
    "print(svc_model.score(X_train, y_train))\n",
    "print(svc_model.score(X_test, y_test))"
   ]
  },
  {
   "cell_type": "code",
   "execution_count": 30,
   "id": "693aa7b7",
   "metadata": {},
   "outputs": [
    {
     "name": "stdout",
     "output_type": "stream",
     "text": [
      "Confusion Matrix:\n",
      " [[23  0]\n",
      " [ 8  0]]\n"
     ]
    }
   ],
   "source": [
    "print(\"Confusion Matrix:\\n\",confusion_matrix(y_test, prediction))"
   ]
  },
  {
   "cell_type": "code",
   "execution_count": 31,
   "id": "0b8a0822",
   "metadata": {},
   "outputs": [
    {
     "name": "stdout",
     "output_type": "stream",
     "text": [
      "              precision    recall  f1-score   support\n",
      "\n",
      "       False       0.74      1.00      0.85        23\n",
      "        True       0.00      0.00      0.00         8\n",
      "\n",
      "    accuracy                           0.74        31\n",
      "   macro avg       0.37      0.50      0.43        31\n",
      "weighted avg       0.55      0.74      0.63        31\n",
      "\n"
     ]
    },
    {
     "name": "stderr",
     "output_type": "stream",
     "text": [
      "C:\\Users\\bensk\\anaconda3\\lib\\site-packages\\sklearn\\metrics\\_classification.py:1245: UndefinedMetricWarning: Precision and F-score are ill-defined and being set to 0.0 in labels with no predicted samples. Use `zero_division` parameter to control this behavior.\n",
      "  _warn_prf(average, modifier, msg_start, len(result))\n",
      "C:\\Users\\bensk\\anaconda3\\lib\\site-packages\\sklearn\\metrics\\_classification.py:1245: UndefinedMetricWarning: Precision and F-score are ill-defined and being set to 0.0 in labels with no predicted samples. Use `zero_division` parameter to control this behavior.\n",
      "  _warn_prf(average, modifier, msg_start, len(result))\n",
      "C:\\Users\\bensk\\anaconda3\\lib\\site-packages\\sklearn\\metrics\\_classification.py:1245: UndefinedMetricWarning: Precision and F-score are ill-defined and being set to 0.0 in labels with no predicted samples. Use `zero_division` parameter to control this behavior.\n",
      "  _warn_prf(average, modifier, msg_start, len(result))\n"
     ]
    }
   ],
   "source": [
    "print(classification_report(y_test, prediction))"
   ]
  },
  {
   "cell_type": "code",
   "execution_count": 32,
   "id": "c849341b",
   "metadata": {},
   "outputs": [
    {
     "name": "stdout",
     "output_type": "stream",
     "text": [
      "0.5121951219512195\n",
      "0.8387096774193549\n"
     ]
    }
   ],
   "source": [
    "#Building a Support Vector Machine on train data(changing the kernel)\n",
    "svc_model = SVC(kernel='sigmoid')\n",
    "svc_model.fit(X_train, y_train)\n",
    "\n",
    "prediction = svc_model.predict(X_test)\n",
    "\n",
    "print(svc_model.score(X_train, y_train))\n",
    "print(svc_model.score(X_test, y_test))"
   ]
  },
  {
   "cell_type": "code",
   "execution_count": 33,
   "id": "aa041abb",
   "metadata": {},
   "outputs": [
    {
     "name": "stdout",
     "output_type": "stream",
     "text": [
      "Confusion Matrix:\n",
      " [[22  1]\n",
      " [ 4  4]]\n"
     ]
    }
   ],
   "source": [
    "print(\"Confusion Matrix:\\n\",confusion_matrix(y_test, prediction))"
   ]
  },
  {
   "cell_type": "code",
   "execution_count": 34,
   "id": "a1a92e42",
   "metadata": {},
   "outputs": [
    {
     "name": "stdout",
     "output_type": "stream",
     "text": [
      "              precision    recall  f1-score   support\n",
      "\n",
      "       False       0.85      0.96      0.90        23\n",
      "        True       0.80      0.50      0.62         8\n",
      "\n",
      "    accuracy                           0.84        31\n",
      "   macro avg       0.82      0.73      0.76        31\n",
      "weighted avg       0.83      0.84      0.83        31\n",
      "\n"
     ]
    }
   ],
   "source": [
    "print(classification_report(y_test, prediction))"
   ]
  },
  {
   "cell_type": "code",
   "execution_count": null,
   "id": "cf93f2a8",
   "metadata": {},
   "outputs": [],
   "source": []
  },
  {
   "cell_type": "code",
   "execution_count": null,
   "id": "082381f3",
   "metadata": {},
   "outputs": [],
   "source": []
  },
  {
   "cell_type": "code",
   "execution_count": null,
   "id": "515135a5",
   "metadata": {},
   "outputs": [],
   "source": []
  }
 ],
 "metadata": {
  "kernelspec": {
   "display_name": "Python 3",
   "language": "python",
   "name": "python3"
  },
  "language_info": {
   "codemirror_mode": {
    "name": "ipython",
    "version": 3
   },
   "file_extension": ".py",
   "mimetype": "text/x-python",
   "name": "python",
   "nbconvert_exporter": "python",
   "pygments_lexer": "ipython3",
   "version": "3.8.8"
  }
 },
 "nbformat": 4,
 "nbformat_minor": 5
}
